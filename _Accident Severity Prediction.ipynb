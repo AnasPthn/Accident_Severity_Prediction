{
 "cells": [
  {
   "cell_type": "code",
   "execution_count": 574,
   "id": "9d738bc0-ad41-474b-b0fd-5dbfe5f1f409",
   "metadata": {},
   "outputs": [],
   "source": [
    "# Importing essential libraries\n",
    "import pandas as pd\n",
    "import numpy as np\n",
    "\n",
    "import matplotlib.pyplot as plt\n",
    "import seaborn as sns\n",
    "from sklearn.model_selection import train_test_split\n",
    "from sklearn.preprocessing import StandardScaler, LabelEncoder\n",
    "from sklearn.ensemble import RandomForestClassifier\n",
    "from sklearn.metrics import accuracy_score, classification_report, confusion_matrix"
   ]
  },
  {
   "cell_type": "code",
   "execution_count": 576,
   "id": "217761e9-252a-49b0-8d3d-ff073d38bc3e",
   "metadata": {},
   "outputs": [
    {
     "name": "stderr",
     "output_type": "stream",
     "text": [
      "C:\\Users\\ANAS\\AppData\\Local\\Temp\\ipykernel_26004\\4039535456.py:2: DtypeWarning: Columns (0) have mixed types. Specify dtype option on import or set low_memory=False.\n",
      "  df = pd.read_csv(r\"D:\\First_Q_project\\Vehicle Collision.csv\")\n"
     ]
    },
    {
     "data": {
      "text/html": [
       "<div>\n",
       "<style scoped>\n",
       "    .dataframe tbody tr th:only-of-type {\n",
       "        vertical-align: middle;\n",
       "    }\n",
       "\n",
       "    .dataframe tbody tr th {\n",
       "        vertical-align: top;\n",
       "    }\n",
       "\n",
       "    .dataframe thead th {\n",
       "        text-align: right;\n",
       "    }\n",
       "</style>\n",
       "<table border=\"1\" class=\"dataframe\">\n",
       "  <thead>\n",
       "    <tr style=\"text-align: right;\">\n",
       "      <th></th>\n",
       "      <th>UNIQUE_ID</th>\n",
       "      <th>COLLISION_ID</th>\n",
       "      <th>CRASH_DATE</th>\n",
       "      <th>CRASH_TIME</th>\n",
       "      <th>PERSON_ID</th>\n",
       "      <th>PERSON_TYPE</th>\n",
       "      <th>PERSON_INJURY</th>\n",
       "      <th>VEHICLE_ID</th>\n",
       "      <th>PERSON_AGE</th>\n",
       "      <th>EJECTION</th>\n",
       "      <th>...</th>\n",
       "      <th>BODILY_INJURY</th>\n",
       "      <th>POSITION_IN_VEHICLE</th>\n",
       "      <th>SAFETY_EQUIPMENT</th>\n",
       "      <th>PED_LOCATION</th>\n",
       "      <th>PED_ACTION</th>\n",
       "      <th>COMPLAINT</th>\n",
       "      <th>PED_ROLE</th>\n",
       "      <th>CONTRIBUTING_FACTOR_1</th>\n",
       "      <th>CONTRIBUTING_FACTOR_2</th>\n",
       "      <th>PERSON_SEX</th>\n",
       "    </tr>\n",
       "  </thead>\n",
       "  <tbody>\n",
       "    <tr>\n",
       "      <th>0</th>\n",
       "      <td>10253606</td>\n",
       "      <td>4230743.0</td>\n",
       "      <td>10/24/2019</td>\n",
       "      <td>19:15</td>\n",
       "      <td>84bcb3a7-d201-4c61-9e30-fe29268c1074</td>\n",
       "      <td>Occupant</td>\n",
       "      <td>Injured</td>\n",
       "      <td>19143343.0</td>\n",
       "      <td>27.0</td>\n",
       "      <td>Not Ejected</td>\n",
       "      <td>...</td>\n",
       "      <td>Back</td>\n",
       "      <td>Driver</td>\n",
       "      <td>Lap Belt &amp; Harness</td>\n",
       "      <td>NaN</td>\n",
       "      <td>NaN</td>\n",
       "      <td>Complaint of Pain or Nausea</td>\n",
       "      <td>Driver</td>\n",
       "      <td>NaN</td>\n",
       "      <td>NaN</td>\n",
       "      <td>M</td>\n",
       "    </tr>\n",
       "    <tr>\n",
       "      <th>1</th>\n",
       "      <td>10248708</td>\n",
       "      <td>4229547.0</td>\n",
       "      <td>10/26/2019</td>\n",
       "      <td>01:15</td>\n",
       "      <td>a8904763-2870-42f3-865c-b53d8e5156e2</td>\n",
       "      <td>Pedestrian</td>\n",
       "      <td>Injured</td>\n",
       "      <td>NaN</td>\n",
       "      <td>24.0</td>\n",
       "      <td>NaN</td>\n",
       "      <td>...</td>\n",
       "      <td>Shoulder - Upper Arm</td>\n",
       "      <td>NaN</td>\n",
       "      <td>NaN</td>\n",
       "      <td>Pedestrian/Bicyclist/Other Pedestrian at Inter...</td>\n",
       "      <td>Crossing With Signal</td>\n",
       "      <td>None Visible</td>\n",
       "      <td>Pedestrian</td>\n",
       "      <td>Unspecified</td>\n",
       "      <td>Unspecified</td>\n",
       "      <td>F</td>\n",
       "    </tr>\n",
       "    <tr>\n",
       "      <th>2</th>\n",
       "      <td>10254556</td>\n",
       "      <td>4230715.0</td>\n",
       "      <td>10/26/2019</td>\n",
       "      <td>08:50</td>\n",
       "      <td>1a085543-ae9d-4a69-8cd0-fb7b33380a8b</td>\n",
       "      <td>Bicyclist</td>\n",
       "      <td>Injured</td>\n",
       "      <td>19143832.0</td>\n",
       "      <td>42.0</td>\n",
       "      <td>Not Ejected</td>\n",
       "      <td>...</td>\n",
       "      <td>Knee-Lower Leg Foot</td>\n",
       "      <td>Driver</td>\n",
       "      <td>Unknown</td>\n",
       "      <td>NaN</td>\n",
       "      <td>NaN</td>\n",
       "      <td>None Visible</td>\n",
       "      <td>Driver</td>\n",
       "      <td>NaN</td>\n",
       "      <td>NaN</td>\n",
       "      <td>M</td>\n",
       "    </tr>\n",
       "    <tr>\n",
       "      <th>3</th>\n",
       "      <td>10250834</td>\n",
       "      <td>4230376.0</td>\n",
       "      <td>10/26/2019</td>\n",
       "      <td>19:40</td>\n",
       "      <td>f58fc41f-497e-4f30-bf49-a9a80adec8b2</td>\n",
       "      <td>Bicyclist</td>\n",
       "      <td>Injured</td>\n",
       "      <td>19141949.0</td>\n",
       "      <td>36.0</td>\n",
       "      <td>Not Ejected</td>\n",
       "      <td>...</td>\n",
       "      <td>Back</td>\n",
       "      <td>Driver</td>\n",
       "      <td>NaN</td>\n",
       "      <td>NaN</td>\n",
       "      <td>NaN</td>\n",
       "      <td>Internal</td>\n",
       "      <td>Driver</td>\n",
       "      <td>NaN</td>\n",
       "      <td>NaN</td>\n",
       "      <td>M</td>\n",
       "    </tr>\n",
       "    <tr>\n",
       "      <th>4</th>\n",
       "      <td>10252474</td>\n",
       "      <td>4229773.0</td>\n",
       "      <td>10/26/2019</td>\n",
       "      <td>16:50</td>\n",
       "      <td>4bf13d12-8d7a-4cb0-997f-dd6a8b1adca6</td>\n",
       "      <td>Occupant</td>\n",
       "      <td>Injured</td>\n",
       "      <td>19142773.0</td>\n",
       "      <td>50.0</td>\n",
       "      <td>Not Ejected</td>\n",
       "      <td>...</td>\n",
       "      <td>Head</td>\n",
       "      <td>Front passenger, if two or more persons, inclu...</td>\n",
       "      <td>Lap Belt &amp; Harness</td>\n",
       "      <td>NaN</td>\n",
       "      <td>NaN</td>\n",
       "      <td>Complaint of Pain or Nausea</td>\n",
       "      <td>Passenger</td>\n",
       "      <td>NaN</td>\n",
       "      <td>NaN</td>\n",
       "      <td>F</td>\n",
       "    </tr>\n",
       "  </tbody>\n",
       "</table>\n",
       "<p>5 rows × 21 columns</p>\n",
       "</div>"
      ],
      "text/plain": [
       "  UNIQUE_ID  COLLISION_ID  CRASH_DATE CRASH_TIME  \\\n",
       "0  10253606     4230743.0  10/24/2019      19:15   \n",
       "1  10248708     4229547.0  10/26/2019      01:15   \n",
       "2  10254556     4230715.0  10/26/2019      08:50   \n",
       "3  10250834     4230376.0  10/26/2019      19:40   \n",
       "4  10252474     4229773.0  10/26/2019      16:50   \n",
       "\n",
       "                              PERSON_ID PERSON_TYPE PERSON_INJURY  VEHICLE_ID  \\\n",
       "0  84bcb3a7-d201-4c61-9e30-fe29268c1074    Occupant       Injured  19143343.0   \n",
       "1  a8904763-2870-42f3-865c-b53d8e5156e2  Pedestrian       Injured         NaN   \n",
       "2  1a085543-ae9d-4a69-8cd0-fb7b33380a8b   Bicyclist       Injured  19143832.0   \n",
       "3  f58fc41f-497e-4f30-bf49-a9a80adec8b2   Bicyclist       Injured  19141949.0   \n",
       "4  4bf13d12-8d7a-4cb0-997f-dd6a8b1adca6    Occupant       Injured  19142773.0   \n",
       "\n",
       "   PERSON_AGE     EJECTION  ...         BODILY_INJURY  \\\n",
       "0        27.0  Not Ejected  ...                  Back   \n",
       "1        24.0          NaN  ...  Shoulder - Upper Arm   \n",
       "2        42.0  Not Ejected  ...   Knee-Lower Leg Foot   \n",
       "3        36.0  Not Ejected  ...                  Back   \n",
       "4        50.0  Not Ejected  ...                  Head   \n",
       "\n",
       "                                 POSITION_IN_VEHICLE    SAFETY_EQUIPMENT  \\\n",
       "0                                             Driver  Lap Belt & Harness   \n",
       "1                                                NaN                 NaN   \n",
       "2                                             Driver             Unknown   \n",
       "3                                             Driver                 NaN   \n",
       "4  Front passenger, if two or more persons, inclu...  Lap Belt & Harness   \n",
       "\n",
       "                                        PED_LOCATION            PED_ACTION  \\\n",
       "0                                                NaN                   NaN   \n",
       "1  Pedestrian/Bicyclist/Other Pedestrian at Inter...  Crossing With Signal   \n",
       "2                                                NaN                   NaN   \n",
       "3                                                NaN                   NaN   \n",
       "4                                                NaN                   NaN   \n",
       "\n",
       "                     COMPLAINT    PED_ROLE CONTRIBUTING_FACTOR_1  \\\n",
       "0  Complaint of Pain or Nausea      Driver                   NaN   \n",
       "1                 None Visible  Pedestrian           Unspecified   \n",
       "2                 None Visible      Driver                   NaN   \n",
       "3                     Internal      Driver                   NaN   \n",
       "4  Complaint of Pain or Nausea   Passenger                   NaN   \n",
       "\n",
       "  CONTRIBUTING_FACTOR_2 PERSON_SEX  \n",
       "0                   NaN          M  \n",
       "1           Unspecified          F  \n",
       "2                   NaN          M  \n",
       "3                   NaN          M  \n",
       "4                   NaN          F  \n",
       "\n",
       "[5 rows x 21 columns]"
      ]
     },
     "execution_count": 576,
     "metadata": {},
     "output_type": "execute_result"
    }
   ],
   "source": [
    "# Load the dataset\n",
    "df = pd.read_csv(r\"D:\\First_Q_project\\Vehicle Collision.csv\")\n",
    "\n",
    "# Display basic info about the dataset\n",
    "df.head()"
   ]
  },
  {
   "cell_type": "code",
   "execution_count": 577,
   "id": "86ce2e0c-7e00-44c4-8698-f4df5ae0ba2a",
   "metadata": {},
   "outputs": [
    {
     "name": "stdout",
     "output_type": "stream",
     "text": [
      "<class 'pandas.core.frame.DataFrame'>\n",
      "RangeIndex: 230660 entries, 0 to 230659\n",
      "Data columns (total 21 columns):\n",
      " #   Column                 Non-Null Count   Dtype  \n",
      "---  ------                 --------------   -----  \n",
      " 0   UNIQUE_ID              230660 non-null  object \n",
      " 1   COLLISION_ID           230656 non-null  float64\n",
      " 2   CRASH_DATE             230656 non-null  object \n",
      " 3   CRASH_TIME             230656 non-null  object \n",
      " 4   PERSON_ID              230653 non-null  object \n",
      " 5   PERSON_TYPE            230656 non-null  object \n",
      " 6   PERSON_INJURY          230656 non-null  object \n",
      " 7   VEHICLE_ID             181937 non-null  float64\n",
      " 8   PERSON_AGE             229663 non-null  float64\n",
      " 9   EJECTION               102787 non-null  object \n",
      " 10  EMOTIONAL_STATUS       126918 non-null  object \n",
      " 11  BODILY_INJURY          126959 non-null  object \n",
      " 12  POSITION_IN_VEHICLE    102906 non-null  object \n",
      " 13  SAFETY_EQUIPMENT       90120 non-null   object \n",
      " 14  PED_LOCATION           26292 non-null   object \n",
      " 15  PED_ACTION             26230 non-null   object \n",
      " 16  COMPLAINT              126973 non-null  object \n",
      " 17  PED_ROLE               126973 non-null  object \n",
      " 18  CONTRIBUTING_FACTOR_1  25208 non-null   object \n",
      " 19  CONTRIBUTING_FACTOR_2  25183 non-null   object \n",
      " 20  PERSON_SEX             126892 non-null  object \n",
      "dtypes: float64(3), object(18)\n",
      "memory usage: 37.0+ MB\n"
     ]
    }
   ],
   "source": [
    "df.info()"
   ]
  },
  {
   "cell_type": "code",
   "execution_count": null,
   "id": "ce490425-5dca-45f4-b6f0-e7501f2b5fae",
   "metadata": {},
   "outputs": [],
   "source": []
  },
  {
   "cell_type": "markdown",
   "id": "6c6faa3d-3c5c-47e9-9a38-e26901a5eeef",
   "metadata": {},
   "source": [
    "<h4>Data Cleaning</h4>"
   ]
  },
  {
   "cell_type": "code",
   "execution_count": 580,
   "id": "1e9ce29f-0f06-4162-b2ff-9f83e475525e",
   "metadata": {},
   "outputs": [
    {
     "name": "stdout",
     "output_type": "stream",
     "text": [
      "                       Missing Values  Percentage\n",
      "BODILY_INJURY                  103701   44.958380\n",
      "COLLISION_ID                        4    0.001734\n",
      "COMPLAINT                      103687   44.952311\n",
      "CONTRIBUTING_FACTOR_1          205452   89.071360\n",
      "CONTRIBUTING_FACTOR_2          205477   89.082199\n",
      "CRASH_DATE                          4    0.001734\n",
      "CRASH_TIME                          4    0.001734\n",
      "EJECTION                       127873   55.437874\n",
      "EMOTIONAL_STATUS               103742   44.976155\n",
      "PED_ACTION                     204430   88.628284\n",
      "PED_LOCATION                   204368   88.601405\n",
      "PED_ROLE                       103687   44.952311\n",
      "PERSON_AGE                        997    0.432238\n",
      "PERSON_ID                           7    0.003035\n",
      "PERSON_INJURY                       4    0.001734\n",
      "PERSON_SEX                     103768   44.987427\n",
      "PERSON_TYPE                         4    0.001734\n",
      "POSITION_IN_VEHICLE            127754   55.386283\n",
      "SAFETY_EQUIPMENT               140540   60.929507\n",
      "UNIQUE_ID                           0    0.000000\n",
      "VEHICLE_ID                      48723   21.123298\n"
     ]
    }
   ],
   "source": [
    "# Checking missing values\n",
    "missing_values = df.isnull().sum().sort_values(ascending=False)\n",
    "missing_percentage = (df.isnull().sum() / len(df)) * 100\n",
    "missing_data = pd.DataFrame({'Missing Values': missing_values, 'Percentage': missing_percentage})\n",
    "print(missing_data)"
   ]
  },
  {
   "cell_type": "code",
   "execution_count": 581,
   "id": "3363e094-6415-4e33-8af8-2df99acc4f99",
   "metadata": {},
   "outputs": [],
   "source": [
    "# Dropping columns with more than 80% missing values\n",
    "columns_to_drop = [\n",
    "    'CONTRIBUTING_FACTOR_1', 'CONTRIBUTING_FACTOR_2',\n",
    "    'PED_ACTION', 'PED_LOCATION','UNIQUE_ID','COLLISION_ID'\n",
    "]\n",
    "df.drop(columns=columns_to_drop, inplace=True)\n"
   ]
  },
  {
   "cell_type": "code",
   "execution_count": 582,
   "id": "1696d6e6-88aa-432b-b3e8-7bae508e188d",
   "metadata": {},
   "outputs": [],
   "source": [
    "# Filling categorical missing values with \"Unknown\"\n",
    "fill_cols = ['BODILY_INJURY', 'COMPLAINT', 'EMOTIONAL_STATUS',\n",
    "             'PERSON_SEX', 'PED_ROLE', 'EJECTION', 'SAFETY_EQUIPMENT', 'POSITION_IN_VEHICLE']\n",
    "\n",
    "for col in fill_cols:\n",
    "    df[col].fillna(\"Unknown\", inplace=True)"
   ]
  },
  {
   "cell_type": "code",
   "execution_count": 583,
   "id": "b81133e4-3746-4b66-bf2e-1ae284e3c313",
   "metadata": {},
   "outputs": [],
   "source": [
    "# Filling PERSON_AGE with median value\n",
    "df['PERSON_AGE'].fillna(df['PERSON_AGE'].median(), inplace=True)\n",
    "\n",
    "# Dropping VEHICLE_ID since it's not critical\n",
    "df.drop(columns=['VEHICLE_ID'], inplace=True)"
   ]
  },
  {
   "cell_type": "code",
   "execution_count": 585,
   "id": "72841c7f-c097-4142-992a-4e94988de7bc",
   "metadata": {},
   "outputs": [
    {
     "data": {
      "text/plain": [
       "(230660, 14)"
      ]
     },
     "execution_count": 585,
     "metadata": {},
     "output_type": "execute_result"
    }
   ],
   "source": [
    "df.shape"
   ]
  },
  {
   "cell_type": "code",
   "execution_count": 587,
   "id": "1e058667-3e09-48a5-8766-aacfba76db8b",
   "metadata": {},
   "outputs": [],
   "source": [
    "# Dropping rows with very few missing values\n",
    "df.dropna(subset=['CRASH_DATE', 'CRASH_TIME', 'PERSON_ID', 'PERSON_INJURY', 'PERSON_TYPE'], inplace=True)\n"
   ]
  },
  {
   "cell_type": "code",
   "execution_count": 588,
   "id": "b0591579-28f8-40bb-8cb3-5b70dca8d172",
   "metadata": {},
   "outputs": [
    {
     "name": "stdout",
     "output_type": "stream",
     "text": [
      "                     Missing Values  Percentage\n",
      "CRASH_DATE                        0         0.0\n",
      "CRASH_TIME                        0         0.0\n",
      "PERSON_ID                         0         0.0\n",
      "PERSON_TYPE                       0         0.0\n",
      "PERSON_INJURY                     0         0.0\n",
      "PERSON_AGE                        0         0.0\n",
      "EJECTION                          0         0.0\n",
      "EMOTIONAL_STATUS                  0         0.0\n",
      "BODILY_INJURY                     0         0.0\n",
      "POSITION_IN_VEHICLE               0         0.0\n",
      "SAFETY_EQUIPMENT                  0         0.0\n",
      "COMPLAINT                         0         0.0\n",
      "PED_ROLE                          0         0.0\n",
      "PERSON_SEX                        0         0.0\n"
     ]
    }
   ],
   "source": [
    "# Create a DataFrame showing missing value count and percentage\n",
    "missing_data = pd.DataFrame({\n",
    "    'Missing Values': df.isnull().sum(),\n",
    "    'Percentage': (df.isnull().sum() / len(df)) * 100\n",
    "}).sort_values(by='Percentage', ascending=False)\n",
    "\n",
    "# Display missing data\n",
    "print(missing_data)"
   ]
  },
  {
   "cell_type": "code",
   "execution_count": 589,
   "id": "ecb0e949-b5de-4bc3-aa3e-56aeff6fe273",
   "metadata": {},
   "outputs": [
    {
     "data": {
      "text/html": [
       "<div>\n",
       "<style scoped>\n",
       "    .dataframe tbody tr th:only-of-type {\n",
       "        vertical-align: middle;\n",
       "    }\n",
       "\n",
       "    .dataframe tbody tr th {\n",
       "        vertical-align: top;\n",
       "    }\n",
       "\n",
       "    .dataframe thead th {\n",
       "        text-align: right;\n",
       "    }\n",
       "</style>\n",
       "<table border=\"1\" class=\"dataframe\">\n",
       "  <thead>\n",
       "    <tr style=\"text-align: right;\">\n",
       "      <th></th>\n",
       "      <th>PERSON_AGE</th>\n",
       "    </tr>\n",
       "  </thead>\n",
       "  <tbody>\n",
       "    <tr>\n",
       "      <th>count</th>\n",
       "      <td>230653.000000</td>\n",
       "    </tr>\n",
       "    <tr>\n",
       "      <th>mean</th>\n",
       "      <td>36.459348</td>\n",
       "    </tr>\n",
       "    <tr>\n",
       "      <th>std</th>\n",
       "      <td>84.742474</td>\n",
       "    </tr>\n",
       "    <tr>\n",
       "      <th>min</th>\n",
       "      <td>-997.000000</td>\n",
       "    </tr>\n",
       "    <tr>\n",
       "      <th>25%</th>\n",
       "      <td>23.000000</td>\n",
       "    </tr>\n",
       "    <tr>\n",
       "      <th>50%</th>\n",
       "      <td>33.000000</td>\n",
       "    </tr>\n",
       "    <tr>\n",
       "      <th>75%</th>\n",
       "      <td>49.000000</td>\n",
       "    </tr>\n",
       "    <tr>\n",
       "      <th>max</th>\n",
       "      <td>9999.000000</td>\n",
       "    </tr>\n",
       "  </tbody>\n",
       "</table>\n",
       "</div>"
      ],
      "text/plain": [
       "          PERSON_AGE\n",
       "count  230653.000000\n",
       "mean       36.459348\n",
       "std        84.742474\n",
       "min      -997.000000\n",
       "25%        23.000000\n",
       "50%        33.000000\n",
       "75%        49.000000\n",
       "max      9999.000000"
      ]
     },
     "execution_count": 589,
     "metadata": {},
     "output_type": "execute_result"
    }
   ],
   "source": [
    "df.describe()"
   ]
  },
  {
   "cell_type": "code",
   "execution_count": 592,
   "id": "fb49db1e-fcac-4753-a0c2-b41fc61b21ba",
   "metadata": {},
   "outputs": [
    {
     "data": {
      "text/plain": [
       "0     19:15\n",
       "1     01:15\n",
       "2     08:50\n",
       "3     19:40\n",
       "4     16:50\n",
       "5          \n",
       "6     12:06\n",
       "7     00:05\n",
       "8     15:40\n",
       "9     03:06\n",
       "10    17:15\n",
       "11    10:43\n",
       "12    19:56\n",
       "13    06:23\n",
       "14    06:54\n",
       "15    03:50\n",
       "16    19:56\n",
       "17    02:29\n",
       "18    22:22\n",
       "19    02:42\n",
       "Name: CRASH_TIME, dtype: object"
      ]
     },
     "execution_count": 592,
     "metadata": {},
     "output_type": "execute_result"
    }
   ],
   "source": [
    "df['CRASH_TIME'].head(20)"
   ]
  },
  {
   "cell_type": "code",
   "execution_count": 595,
   "id": "88e24136-a706-43cc-a865-fbe1646c865c",
   "metadata": {},
   "outputs": [
    {
     "name": "stdout",
     "output_type": "stream",
     "text": [
      "0    2019-10-24\n",
      "1    2019-10-26\n",
      "2    2019-10-26\n",
      "3    2019-10-26\n",
      "4    2019-10-26\n",
      "Name: CRASH_DATE, dtype: object\n"
     ]
    }
   ],
   "source": [
    "# Sample data\n",
    "df['CRASH_DATE'] = pd.to_datetime(df['CRASH_DATE'], errors='coerce')\n",
    "\n",
    "# Convert to standard format (YYYY-MM-DD)\n",
    "df['CRASH_DATE'] = df['CRASH_DATE'].dt.strftime('%Y-%m-%d')\n",
    "\n",
    "print(df['CRASH_DATE'].head())"
   ]
  },
  {
   "cell_type": "code",
   "execution_count": 597,
   "id": "02888ae9-7b53-4b64-aa1e-340ef0170a2a",
   "metadata": {},
   "outputs": [
    {
     "data": {
      "text/plain": [
       "90413"
      ]
     },
     "execution_count": 597,
     "metadata": {},
     "output_type": "execute_result"
    }
   ],
   "source": [
    "df['CRASH_DATE'].isnull().sum()"
   ]
  },
  {
   "cell_type": "code",
   "execution_count": 599,
   "id": "10878cb5-9ff3-4617-8f62-9e93d0206149",
   "metadata": {},
   "outputs": [
    {
     "name": "stdout",
     "output_type": "stream",
     "text": [
      "  CRASH_TIME CRASH_TIME_CATEGORY\n",
      "0      19:15             Evening\n",
      "1      01:15               Night\n",
      "2      08:50             Morning\n",
      "3      19:40             Evening\n",
      "4      16:50           Afternoon\n"
     ]
    }
   ],
   "source": [
    "import pandas as pd\n",
    "\n",
    "# Sample data\n",
    "df['CRASH_TIME'] = df['CRASH_TIME'].str.strip()  # Clean up extra spaces\n",
    "\n",
    "# Define function to categorize time\n",
    "def categorize_time(time_str):\n",
    "    # Convert string time to a datetime object to extract hour\n",
    "    time_obj = pd.to_datetime(time_str, format='%H:%M')\n",
    "    hour = time_obj.hour\n",
    "    \n",
    "    if 5 <= hour < 12:\n",
    "        return 'Morning'\n",
    "    elif 12 <= hour < 17:\n",
    "        return 'Afternoon'\n",
    "    elif 17 <= hour < 21:\n",
    "        return 'Evening'\n",
    "    else:\n",
    "        return 'Night'\n",
    "\n",
    "# Apply function to categorize each time\n",
    "df['CRASH_TIME_CATEGORY'] = df['CRASH_TIME'].apply(categorize_time)\n",
    "\n",
    "# Check results\n",
    "print(df[['CRASH_TIME', 'CRASH_TIME_CATEGORY']].head())\n"
   ]
  },
  {
   "cell_type": "code",
   "execution_count": 602,
   "id": "4133ddc5-7584-463c-8d4d-7343a15cb1f3",
   "metadata": {},
   "outputs": [
    {
     "data": {
      "text/plain": [
       "CRASH_DATE             90413\n",
       "CRASH_TIME                 0\n",
       "PERSON_ID                  0\n",
       "PERSON_TYPE                0\n",
       "PERSON_INJURY              0\n",
       "PERSON_AGE                 0\n",
       "EJECTION                   0\n",
       "EMOTIONAL_STATUS           0\n",
       "BODILY_INJURY              0\n",
       "POSITION_IN_VEHICLE        0\n",
       "SAFETY_EQUIPMENT           0\n",
       "COMPLAINT                  0\n",
       "PED_ROLE                   0\n",
       "PERSON_SEX                 0\n",
       "CRASH_TIME_CATEGORY        0\n",
       "dtype: int64"
      ]
     },
     "execution_count": 602,
     "metadata": {},
     "output_type": "execute_result"
    }
   ],
   "source": [
    "df.isnull().sum()"
   ]
  },
  {
   "cell_type": "code",
   "execution_count": null,
   "id": "16005ef7-7dee-4d69-acb1-95d6ae7cc5f9",
   "metadata": {},
   "outputs": [],
   "source": []
  },
  {
   "cell_type": "code",
   "execution_count": 605,
   "id": "ca78772e-aef2-4c61-b606-d1d47f8c160b",
   "metadata": {},
   "outputs": [
    {
     "name": "stderr",
     "output_type": "stream",
     "text": [
      "C:\\Users\\ANAS\\AppData\\Local\\Temp\\ipykernel_26004\\3347072095.py:2: FutureWarning: Series.fillna with 'method' is deprecated and will raise in a future version. Use obj.ffill() or obj.bfill() instead.\n",
      "  df['CRASH_DATE'] = df['CRASH_DATE'].fillna(method='ffill')\n",
      "C:\\Users\\ANAS\\AppData\\Local\\Temp\\ipykernel_26004\\3347072095.py:5: FutureWarning: Series.fillna with 'method' is deprecated and will raise in a future version. Use obj.ffill() or obj.bfill() instead.\n",
      "  df['CRASH_DATE'] = df['CRASH_DATE'].fillna(method='bfill')\n"
     ]
    }
   ],
   "source": [
    "# Forward fill\n",
    "df['CRASH_DATE'] = df['CRASH_DATE'].fillna(method='ffill')\n",
    "\n",
    "# Or backward fill\n",
    "df['CRASH_DATE'] = df['CRASH_DATE'].fillna(method='bfill')"
   ]
  },
  {
   "cell_type": "code",
   "execution_count": 608,
   "id": "f07dc8e0-d1a2-4f1a-9f0c-f358b4b1bd2c",
   "metadata": {},
   "outputs": [
    {
     "data": {
      "text/plain": [
       "PERSON_INJURY\n",
       "Injured    229630\n",
       "Killed       1023\n",
       "Name: count, dtype: int64"
      ]
     },
     "execution_count": 608,
     "metadata": {},
     "output_type": "execute_result"
    }
   ],
   "source": [
    "df['PERSON_INJURY'].value_counts()"
   ]
  },
  {
   "cell_type": "markdown",
   "id": "5430d27e-58c3-4c03-9405-9678336248b4",
   "metadata": {},
   "source": [
    "There i find out my Person_age column is really fucked_up so i need to fix this too"
   ]
  },
  {
   "cell_type": "code",
   "execution_count": 610,
   "id": "7a108abe-8e50-4746-a160-1efa410b8a97",
   "metadata": {},
   "outputs": [
    {
     "name": "stdout",
     "output_type": "stream",
     "text": [
      "          PERSON_AGE\n",
      "count  230653.000000\n",
      "mean       36.459348\n",
      "std        84.742474\n",
      "min      -997.000000\n",
      "25%        23.000000\n",
      "50%        33.000000\n",
      "75%        49.000000\n",
      "max      9999.000000\n"
     ]
    },
    {
     "data": {
      "text/plain": [
       "<Axes: >"
      ]
     },
     "execution_count": 610,
     "metadata": {},
     "output_type": "execute_result"
    },
    {
     "data": {
      "image/png": "[encoded data removed]",
      "text/plain": [
       "<Figure size 640x480 with 1 Axes>"
      ]
     },
     "metadata": {},
     "output_type": "display_data"
    }
   ],
   "source": [
    "# Summary statistics for numerical features\n",
    "print(df.describe())\n",
    "\n",
    "# Plot histogram for numerical features\n",
    "df['PERSON_AGE'].hist(bins=20)\n"
   ]
  },
  {
   "cell_type": "code",
   "execution_count": 611,
   "id": "4a925fa6-faa3-4bb0-8c97-048c83dd83d5",
   "metadata": {},
   "outputs": [
    {
     "data": {
      "text/plain": [
       "0    27.0\n",
       "1    24.0\n",
       "2    42.0\n",
       "3    36.0\n",
       "4    50.0\n",
       "5    36.0\n",
       "6     3.0\n",
       "7    35.0\n",
       "8    32.0\n",
       "9    51.0\n",
       "Name: PERSON_AGE, dtype: float64"
      ]
     },
     "execution_count": 611,
     "metadata": {},
     "output_type": "execute_result"
    }
   ],
   "source": [
    "df['PERSON_AGE'].head(10)"
   ]
  },
  {
   "cell_type": "code",
   "execution_count": 612,
   "id": "37a66e5e-7509-420d-99c5-b71bdf30648b",
   "metadata": {},
   "outputs": [
    {
     "name": "stdout",
     "output_type": "stream",
     "text": [
      "9999\n"
     ]
    }
   ],
   "source": [
    "# Convert age to integer\n",
    "df['PERSON_AGE'] = df['PERSON_AGE'].astype(int)\n",
    "\n",
    "# Check the conversion\n",
    "print(df['PERSON_AGE'].max())"
   ]
  },
  {
   "cell_type": "code",
   "execution_count": 613,
   "id": "24ae92ba-eb19-4291-a980-cb542fd04328",
   "metadata": {},
   "outputs": [],
   "source": [
    "# Optionally, filter out rows with unrealistic age values\n",
    "df = df[df['PERSON_AGE'] < 80]  # Assuming ages above 120 are invalid"
   ]
  },
  {
   "cell_type": "code",
   "execution_count": 614,
   "id": "fee897e0-6983-4b54-8cf4-4828e815a656",
   "metadata": {},
   "outputs": [
    {
     "data": {
      "text/plain": [
       "79"
      ]
     },
     "execution_count": 614,
     "metadata": {},
     "output_type": "execute_result"
    }
   ],
   "source": [
    "df['PERSON_AGE'].max()"
   ]
  },
  {
   "cell_type": "markdown",
   "id": "ed2d98c9-208d-4ec5-afbd-514e4ca59cab",
   "metadata": {},
   "source": [
    "I have age 0-9999"
   ]
  },
  {
   "cell_type": "code",
   "execution_count": 616,
   "id": "0a438415-e26f-4227-9ccc-1badc85cf95e",
   "metadata": {},
   "outputs": [
    {
     "data": {
      "text/plain": [
       "count    227440.000000\n",
       "mean         34.638318\n",
       "std          20.861909\n",
       "min        -997.000000\n",
       "25%          23.000000\n",
       "50%          33.000000\n",
       "75%          48.000000\n",
       "max          79.000000\n",
       "Name: PERSON_AGE, dtype: float64"
      ]
     },
     "execution_count": 616,
     "metadata": {},
     "output_type": "execute_result"
    }
   ],
   "source": [
    "# Plot histogram for numerical features\n",
    "df['PERSON_AGE'].describe()"
   ]
  },
  {
   "cell_type": "code",
   "execution_count": 617,
   "id": "82209563-93c1-4a3f-a765-2949edfdaa33",
   "metadata": {},
   "outputs": [],
   "source": [
    "# Step 1: Replace negative ages and -999 with NaN\n",
    "df['PERSON_AGE'] = df['PERSON_AGE'].replace([-999, -np.inf], np.nan)\n",
    "\n",
    "# Step 2: Remove rows where age is negative or over 80 (you can adjust this threshold as needed)\n",
    "df = df[df['PERSON_AGE'] >= 0]  # Remove negative ages\n",
    "df = df[df['PERSON_AGE'] <= 80]  # Keep ages within the 0-80 range\n",
    "\n",
    "# Optionally, impute missing values (e.g., with the median)\n",
    "df['PERSON_AGE'] = df['PERSON_AGE'].fillna(df['PERSON_AGE'].median())"
   ]
  },
  {
   "cell_type": "code",
   "execution_count": 618,
   "id": "376ec101-7c50-4f81-90a4-2cf7caf05205",
   "metadata": {},
   "outputs": [
    {
     "data": {
      "text/plain": [
       "count    227405.000000\n",
       "mean         34.759469\n",
       "std          18.158001\n",
       "min           0.000000\n",
       "25%          23.000000\n",
       "50%          33.000000\n",
       "75%          48.000000\n",
       "max          79.000000\n",
       "Name: PERSON_AGE, dtype: float64"
      ]
     },
     "execution_count": 618,
     "metadata": {},
     "output_type": "execute_result"
    }
   ],
   "source": [
    "# Plot histogram for numerical features\n",
    "df['PERSON_AGE'].describe()"
   ]
  },
  {
   "cell_type": "code",
   "execution_count": 619,
   "id": "2db1c524-c7b2-4cab-a047-59796f56394b",
   "metadata": {},
   "outputs": [
    {
     "data": {
      "text/plain": [
       "CRASH_DATE             0\n",
       "CRASH_TIME             0\n",
       "PERSON_ID              0\n",
       "PERSON_TYPE            0\n",
       "PERSON_INJURY          0\n",
       "PERSON_AGE             0\n",
       "EJECTION               0\n",
       "EMOTIONAL_STATUS       0\n",
       "BODILY_INJURY          0\n",
       "POSITION_IN_VEHICLE    0\n",
       "SAFETY_EQUIPMENT       0\n",
       "COMPLAINT              0\n",
       "PED_ROLE               0\n",
       "PERSON_SEX             0\n",
       "CRASH_TIME_CATEGORY    0\n",
       "dtype: int64"
      ]
     },
     "execution_count": 619,
     "metadata": {},
     "output_type": "execute_result"
    }
   ],
   "source": [
    "df.isnull().sum()"
   ]
  },
  {
   "cell_type": "code",
   "execution_count": 620,
   "id": "68d97429-bed6-40b3-9f58-b3bc0f688805",
   "metadata": {},
   "outputs": [
    {
     "name": "stdout",
     "output_type": "stream",
     "text": [
      "   PERSON_AGE AGE_CATEGORY\n",
      "0          27  Young Adult\n",
      "1          24  Young Adult\n",
      "2          42        Adult\n",
      "3          36        Adult\n",
      "4          50        Adult\n"
     ]
    }
   ],
   "source": [
    "# Step 1: Remove rows where PERSON_AGE is NaN or invalid\n",
    "df = df[df['PERSON_AGE'] >= 0]  # Remove negative ages\n",
    "df = df[df['PERSON_AGE'] <= 80]  # Keep ages within the 0-80 range\n",
    "\n",
    "# Step 2: Recreate the AGE_CATEGORY column based on cleaned PERSON_AGE\n",
    "bins = [0, 12, 35, 64, 80]\n",
    "labels = ['Kid', 'Young Adult', 'Adult', 'Old']\n",
    "df['AGE_CATEGORY'] = pd.cut(df['PERSON_AGE'], bins=bins, labels=labels, right=True)\n",
    "\n",
    "# Step 3: Check for any NaN values in AGE_CATEGORY (this should be rare now)\n",
    "df = df.dropna(subset=['AGE_CATEGORY'])\n",
    "\n",
    "# Optionally, check the cleaned AGE_CATEGORY column\n",
    "print(df[['PERSON_AGE', 'AGE_CATEGORY']].head())\n"
   ]
  },
  {
   "cell_type": "markdown",
   "id": "f08cdfdb-8468-45d9-979f-593ccde5a337",
   "metadata": {},
   "source": [
    "<h4>EDA Part</h4>"
   ]
  },
  {
   "cell_type": "code",
   "execution_count": 622,
   "id": "e1deffa3-09f8-430e-9bda-df2abfe8072c",
   "metadata": {},
   "outputs": [
    {
     "name": "stdout",
     "output_type": "stream",
     "text": [
      "          PERSON_AGE\n",
      "count  217661.000000\n",
      "mean       36.315541\n",
      "std        16.969485\n",
      "min         1.000000\n",
      "25%        24.000000\n",
      "50%        34.000000\n",
      "75%        49.000000\n",
      "max        79.000000\n"
     ]
    },
    {
     "name": "stderr",
     "output_type": "stream",
     "text": [
      "C:\\Users\\ANAS\\anaconda3\\Lib\\site-packages\\seaborn\\_oldcore.py:1119: FutureWarning: use_inf_as_na option is deprecated and will be removed in a future version. Convert inf values to NaN before operating instead.\n",
      "  with pd.option_context('mode.use_inf_as_na', True):\n"
     ]
    },
    {
     "data": {
      "image/png": "[encoded data removed]",
      "text/plain": [
       "<Figure size 640x480 with 1 Axes>"
      ]
     },
     "metadata": {},
     "output_type": "display_data"
    },
    {
     "data": {
      "image/png": "[encoded data removed]",
      "text/plain": [
       "<Figure size 640x480 with 1 Axes>"
      ]
     },
     "metadata": {},
     "output_type": "display_data"
    }
   ],
   "source": [
    "# Summary statistics for numerical features\n",
    "print(df.describe())\n",
    "\n",
    "# Histogram for numeric variables (e.g., AGE, CRASH_TIME)\n",
    "import matplotlib.pyplot as plt\n",
    "import seaborn as sns\n",
    "\n",
    "# Age Distribution\n",
    "sns.histplot(df['PERSON_AGE'], kde=True)\n",
    "plt.title('Distribution of Age')\n",
    "plt.xlabel('Age')\n",
    "plt.ylabel('Frequency')\n",
    "plt.show()\n",
    "\n",
    "# Crash Time Distribution (if it's converted to a categorical feature like morning, evening, etc.)\n",
    "sns.countplot(x='CRASH_TIME', data=df)\n",
    "plt.title('Distribution of Crash Time')\n",
    "plt.xlabel('Crash Time')\n",
    "plt.ylabel('Frequency')\n",
    "plt.show()\n"
   ]
  },
  {
   "cell_type": "code",
   "execution_count": 623,
   "id": "3acf2cc9-3c00-4c26-bd05-2ee62c624555",
   "metadata": {},
   "outputs": [
    {
     "data": {
      "text/plain": [
       "count     217661\n",
       "unique      1441\n",
       "top        17:00\n",
       "freq        2668\n",
       "Name: CRASH_TIME, dtype: object"
      ]
     },
     "execution_count": 623,
     "metadata": {},
     "output_type": "execute_result"
    }
   ],
   "source": [
    "df['CRASH_TIME'].describe()"
   ]
  },
  {
   "cell_type": "code",
   "execution_count": 624,
   "id": "97a7dc0c-4531-4a54-9179-a088430e1764",
   "metadata": {},
   "outputs": [
    {
     "name": "stdout",
     "output_type": "stream",
     "text": [
      "PERSON_TYPE\n",
      "Occupant           155025\n",
      "Pedestrian          45047\n",
      "Bicyclist           17549\n",
      "Other Motorized        40\n",
      "Name: count, dtype: int64\n"
     ]
    },
    {
     "data": {
      "image/png": "[encoded data removed]",
      "text/plain": [
       "<Figure size 640x480 with 1 Axes>"
      ]
     },
     "metadata": {},
     "output_type": "display_data"
    }
   ],
   "source": [
    "# Frequency count for categorical features\n",
    "print(df['PERSON_TYPE'].value_counts())\n",
    "\n",
    "# Visualize the categorical variables\n",
    "sns.countplot(x='PERSON_TYPE', data=df)\n",
    "plt.title('Distribution of Person Type')\n",
    "plt.xlabel('Person Type')\n",
    "plt.ylabel('Frequency')\n",
    "plt.show()\n",
    "\n",
    "# You can repeat this for other categorical columns like EMOTIONAL_STATUS, PERSON_INJURY, etc.\n"
   ]
  },
  {
   "cell_type": "code",
   "execution_count": 625,
   "id": "99175b3d-c8bb-47b4-b738-928fd3161a7e",
   "metadata": {},
   "outputs": [
    {
     "name": "stdout",
     "output_type": "stream",
     "text": [
      "<class 'pandas.core.frame.DataFrame'>\n",
      "Index: 217661 entries, 0 to 230655\n",
      "Data columns (total 16 columns):\n",
      " #   Column               Non-Null Count   Dtype   \n",
      "---  ------               --------------   -----   \n",
      " 0   CRASH_DATE           217661 non-null  object  \n",
      " 1   CRASH_TIME           217661 non-null  object  \n",
      " 2   PERSON_ID            217661 non-null  object  \n",
      " 3   PERSON_TYPE          217661 non-null  object  \n",
      " 4   PERSON_INJURY        217661 non-null  object  \n",
      " 5   PERSON_AGE           217661 non-null  int32   \n",
      " 6   EJECTION             217661 non-null  object  \n",
      " 7   EMOTIONAL_STATUS     217661 non-null  object  \n",
      " 8   BODILY_INJURY        217661 non-null  object  \n",
      " 9   POSITION_IN_VEHICLE  217661 non-null  object  \n",
      " 10  SAFETY_EQUIPMENT     217661 non-null  object  \n",
      " 11  COMPLAINT            217661 non-null  object  \n",
      " 12  PED_ROLE             217661 non-null  object  \n",
      " 13  PERSON_SEX           217661 non-null  object  \n",
      " 14  CRASH_TIME_CATEGORY  217661 non-null  object  \n",
      " 15  AGE_CATEGORY         217661 non-null  category\n",
      "dtypes: category(1), int32(1), object(14)\n",
      "memory usage: 25.9+ MB\n"
     ]
    }
   ],
   "source": [
    "df.info()"
   ]
  },
  {
   "cell_type": "code",
   "execution_count": 626,
   "id": "387dc603-25ca-44ea-b102-5e421391eb4f",
   "metadata": {},
   "outputs": [
    {
     "data": {
      "image/png": "[encoded data removed]",
      "text/plain": [
       "<Figure size 1200x600 with 1 Axes>"
      ]
     },
     "metadata": {},
     "output_type": "display_data"
    }
   ],
   "source": [
    "import matplotlib.pyplot as plt\n",
    "import seaborn as sns\n",
    "\n",
    "# Count occurrences of each safety equipment type\n",
    "safety_counts = df[\"SAFETY_EQUIPMENT\"].value_counts()\n",
    "\n",
    "# Plot\n",
    "plt.figure(figsize=(12, 6))\n",
    "sns.barplot(x=safety_counts.index, y=safety_counts.values, palette=\"viridis\")\n",
    "\n",
    "# Add labels\n",
    "plt.title(\"Usage of Safety Equipment in Accidents\")\n",
    "plt.xlabel(\"Safety Equipment Type\")\n",
    "plt.ylabel(\"Count\")\n",
    "plt.xticks(rotation=45)  # Rotate labels for better readability\n",
    "plt.grid(axis=\"y\", linestyle=\"--\", alpha=0.7)\n",
    "\n",
    "# Show plot\n",
    "plt.show()"
   ]
  },
  {
   "cell_type": "code",
   "execution_count": null,
   "id": "150fce6e-b5bd-40b2-8e78-f1f058e86d66",
   "metadata": {},
   "outputs": [],
   "source": []
  },
  {
   "cell_type": "code",
   "execution_count": 628,
   "id": "89855cff-878a-4383-8012-180736e4bd19",
   "metadata": {},
   "outputs": [
    {
     "name": "stdout",
     "output_type": "stream",
     "text": [
      "PERSON_INJURY\n",
      "0    216777\n",
      "1       884\n",
      "Name: count, dtype: int64\n"
     ]
    }
   ],
   "source": [
    "# Step 1: Initialize the LabelEncoder\n",
    "le = LabelEncoder()\n",
    "\n",
    "# Step 2: Encode the 'PERSON_INJURY' column (or any categorical column)\n",
    "df['PERSON_INJURY'] = le.fit_transform(df['PERSON_INJURY'])\n",
    "\n",
    "# Verify the encoding\n",
    "print(df['PERSON_INJURY'].value_counts())"
   ]
  },
  {
   "cell_type": "code",
   "execution_count": 667,
   "id": "682fdcdd-31e7-4d73-b7e2-1bdccc95c561",
   "metadata": {},
   "outputs": [
    {
     "data": {
      "image/png": "[encoded data removed]",
      "text/plain": [
       "<Figure size 600x300 with 2 Axes>"
      ]
     },
     "metadata": {},
     "output_type": "display_data"
    }
   ],
   "source": [
    "# Step 1: Convert CRASH_DATE to datetime format\n",
    "df['CRASH_DATE'] = pd.to_datetime(df['CRASH_DATE'], errors='coerce')\n",
    "\n",
    "# Step 2: Extract useful features (like year, month, or the number of days since the earliest date)\n",
    "df['CRASH_YEAR'] = df['CRASH_DATE'].dt.year\n",
    "df['CRASH_MONTH'] = df['CRASH_DATE'].dt.month\n",
    "df['CRASH_DAY'] = df['CRASH_DATE'].dt.day\n",
    "df['DAYS_SINCE_FIRST'] = (df['CRASH_DATE'] - df['CRASH_DATE'].min()).dt.days  # Number of days since the first crash\n",
    "\n",
    "# Now you can use the new columns in the correlation matrix\n",
    "correlation_matrix = df[['PERSON_AGE', 'DAYS_SINCE_FIRST', 'CRASH_YEAR', 'CRASH_MONTH', 'CRASH_DAY', 'PERSON_INJURY']].corr()\n",
    "\n",
    "# Visualize the correlation matrix\n",
    "plt.figure(figsize=(6, 3))\n",
    "sns.heatmap(correlation_matrix, annot=True, cmap='coolwarm', fmt='.2f')\n",
    "plt.title('Correlation Matrix')\n",
    "plt.show()\n"
   ]
  },
  {
   "cell_type": "code",
   "execution_count": 630,
   "id": "a7735e31-be71-4f1a-bd95-489752a20a26",
   "metadata": {},
   "outputs": [
    {
     "data": {
      "image/png": "[encoded data removed]",
      "text/plain": [
       "<Figure size 640x480 with 1 Axes>"
      ]
     },
     "metadata": {},
     "output_type": "display_data"
    }
   ],
   "source": [
    "# Scatter plot for age vs severity (if PERSON_INJURY is a numeric or binary target)\n",
    "sns.scatterplot(x='PERSON_AGE', y='PERSON_INJURY', data=df)\n",
    "plt.title('Age vs Injury Severity')\n",
    "plt.xlabel('Age')\n",
    "plt.ylabel('Injury Severity')\n",
    "plt.show()"
   ]
  },
  {
   "cell_type": "code",
   "execution_count": 631,
   "id": "518324a4-a79d-41fc-a843-4c837e8ebb4b",
   "metadata": {},
   "outputs": [
    {
     "data": {
      "text/plain": [
       "array(['Occupant', 'Pedestrian', 'Bicyclist', 'Other Motorized'],\n",
       "      dtype=object)"
      ]
     },
     "execution_count": 631,
     "metadata": {},
     "output_type": "execute_result"
    }
   ],
   "source": [
    "df['PERSON_TYPE'].unique()"
   ]
  },
  {
   "cell_type": "code",
   "execution_count": 632,
   "id": "f4fc7983-8354-42a3-9a81-b4926396d329",
   "metadata": {},
   "outputs": [
    {
     "name": "stdout",
     "output_type": "stream",
     "text": [
      "<class 'pandas.core.frame.DataFrame'>\n",
      "Index: 217661 entries, 0 to 230655\n",
      "Data columns (total 20 columns):\n",
      " #   Column               Non-Null Count   Dtype         \n",
      "---  ------               --------------   -----         \n",
      " 0   CRASH_DATE           217661 non-null  datetime64[ns]\n",
      " 1   CRASH_TIME           217661 non-null  object        \n",
      " 2   PERSON_ID            217661 non-null  object        \n",
      " 3   PERSON_TYPE          217661 non-null  object        \n",
      " 4   PERSON_INJURY        217661 non-null  int32         \n",
      " 5   PERSON_AGE           217661 non-null  int32         \n",
      " 6   EJECTION             217661 non-null  object        \n",
      " 7   EMOTIONAL_STATUS     217661 non-null  object        \n",
      " 8   BODILY_INJURY        217661 non-null  object        \n",
      " 9   POSITION_IN_VEHICLE  217661 non-null  object        \n",
      " 10  SAFETY_EQUIPMENT     217661 non-null  object        \n",
      " 11  COMPLAINT            217661 non-null  object        \n",
      " 12  PED_ROLE             217661 non-null  object        \n",
      " 13  PERSON_SEX           217661 non-null  object        \n",
      " 14  CRASH_TIME_CATEGORY  217661 non-null  object        \n",
      " 15  AGE_CATEGORY         217661 non-null  category      \n",
      " 16  CRASH_YEAR           217661 non-null  int32         \n",
      " 17  CRASH_MONTH          217661 non-null  int32         \n",
      " 18  CRASH_DAY            217661 non-null  int32         \n",
      " 19  DAYS_SINCE_FIRST     217661 non-null  int64         \n",
      "dtypes: category(1), datetime64[ns](1), int32(5), int64(1), object(12)\n",
      "memory usage: 29.3+ MB\n"
     ]
    }
   ],
   "source": [
    "df.info()"
   ]
  },
  {
   "cell_type": "code",
   "execution_count": 633,
   "id": "44d946f6-c26a-4b0f-9925-aa06d03a653a",
   "metadata": {},
   "outputs": [
    {
     "data": {
      "text/plain": [
       "array(['Not Ejected', 'Unknown', 'Ejected', 'Does Not Apply', 'Trapped',\n",
       "       'Partially Ejected'], dtype=object)"
      ]
     },
     "execution_count": 633,
     "metadata": {},
     "output_type": "execute_result"
    }
   ],
   "source": [
    "df['EJECTION'].unique()"
   ]
  },
  {
   "cell_type": "code",
   "execution_count": 634,
   "id": "a06f63d2-0a4d-4ab8-9fe9-57ddc15a1482",
   "metadata": {},
   "outputs": [],
   "source": [
    "from sklearn.preprocessing import LabelEncoder\n",
    "\n",
    "encoder = LabelEncoder()\n",
    "df['EJECTION_New'] = encoder.fit_transform(df['EJECTION'])\n",
    "df['EJECTION_New'] = df['EJECTION_New'].astype(int)\n"
   ]
  },
  {
   "cell_type": "markdown",
   "id": "0fd53b60-7385-4082-bd12-77da90d1f79c",
   "metadata": {},
   "source": [
    "Not Ejected        → 0  \n",
    "Partially Ejected  → 1  \n",
    "Ejected           → 2  \n",
    "Unknown           → 3  \n",
    "Does Not Apply    → 4  \n",
    "Trapped           → 5  \n"
   ]
  },
  {
   "cell_type": "code",
   "execution_count": null,
   "id": "7d8688f4-15aa-4730-8573-d3dec647e002",
   "metadata": {},
   "outputs": [],
   "source": []
  },
  {
   "cell_type": "code",
   "execution_count": 637,
   "id": "f1105992-d838-41a0-b333-1a0b045ad38a",
   "metadata": {},
   "outputs": [
    {
     "data": {
      "image/png": "[encoded data removed]",
      "text/plain": [
       "<Figure size 640x480 with 1 Axes>"
      ]
     },
     "metadata": {},
     "output_type": "display_data"
    }
   ],
   "source": [
    "# Boxplot for numerical variables to check for outliers\n",
    "sns.boxplot(x=df['EJECTION_New'])\n",
    "plt.title('Boxplot for Age')\n",
    "plt.show()"
   ]
  },
  {
   "cell_type": "code",
   "execution_count": 313,
   "id": "7c2b8b23-4593-4732-acd5-163be645f147",
   "metadata": {},
   "outputs": [
    {
     "name": "stdout",
     "output_type": "stream",
     "text": [
      "<class 'pandas.core.frame.DataFrame'>\n",
      "Index: 217661 entries, 0 to 230655\n",
      "Data columns (total 20 columns):\n",
      " #   Column                Non-Null Count   Dtype\n",
      "---  ------                --------------   -----\n",
      " 0   PERSON_TYPE           217661 non-null  int32\n",
      " 1   PERSON_INJURY         217661 non-null  int32\n",
      " 2   PERSON_AGE            217661 non-null  int32\n",
      " 3   EJECTION              217661 non-null  int32\n",
      " 4   EMOTIONAL_STATUS      217661 non-null  int32\n",
      " 5   BODILY_INJURY         217661 non-null  int32\n",
      " 6   POSITION_IN_VEHICLE   217661 non-null  int32\n",
      " 7   COMPLAINT             217661 non-null  int32\n",
      " 8   PED_ROLE              217661 non-null  int32\n",
      " 9   PERSON_SEX            217661 non-null  int32\n",
      " 10  CRASH_TIME_CATEGORY   217661 non-null  int32\n",
      " 11  AGE_CATEGORY          217661 non-null  int32\n",
      " 12  CRASH_YEAR            217661 non-null  int32\n",
      " 13  CRASH_MONTH           217661 non-null  int32\n",
      " 14  CRASH_DAY             217661 non-null  int32\n",
      " 15  DAYS_SINCE_FIRST      217661 non-null  int32\n",
      " 16  EJECTION_New          217661 non-null  int32\n",
      " 17  SAFETY_EQUIPMENT_New  217661 non-null  int64\n",
      " 18  CRASH_HOUR            217661 non-null  int32\n",
      " 19  CRASH_MINUTE          217661 non-null  int32\n",
      "dtypes: int32(19), int64(1)\n",
      "memory usage: 19.1 MB\n"
     ]
    }
   ],
   "source": [
    "df.info()"
   ]
  },
  {
   "cell_type": "code",
   "execution_count": null,
   "id": "590eef08-81dd-4100-ba0d-31b550a37c84",
   "metadata": {},
   "outputs": [],
   "source": []
  },
  {
   "cell_type": "code",
   "execution_count": 201,
   "id": "f6d606ac-37db-4d59-a693-86b0b95dbb36",
   "metadata": {},
   "outputs": [
    {
     "name": "stdout",
     "output_type": "stream",
     "text": [
      "PERSON_SEX\n",
      "Unknown    43.249824\n",
      "M          31.202650\n",
      "F          25.433128\n",
      "U           0.114398\n",
      "Name: proportion, dtype: float64\n"
     ]
    }
   ],
   "source": [
    "gender_counts = df['PERSON_SEX'].value_counts(normalize=True) * 100\n",
    "print(gender_counts)\n"
   ]
  },
  {
   "cell_type": "code",
   "execution_count": 203,
   "id": "c38571a1-b423-4696-b7d6-82aa8c73603a",
   "metadata": {},
   "outputs": [],
   "source": [
    "df['PERSON_SEX'] = df['PERSON_SEX'].replace({'U': 'Unknown'})\n"
   ]
  },
  {
   "cell_type": "code",
   "execution_count": 205,
   "id": "37c89082-8a3e-42e1-9f53-dd86eaa00743",
   "metadata": {},
   "outputs": [],
   "source": [
    "from sklearn.preprocessing import LabelEncoder\n",
    "\n",
    "encoder = LabelEncoder()\n",
    "df['PERSON_SEX'] = encoder.fit_transform(df['PERSON_SEX'])  # Example for gender\n"
   ]
  },
  {
   "cell_type": "code",
   "execution_count": 207,
   "id": "18608baa-1ef6-4c2f-8401-5ccfe7597d92",
   "metadata": {},
   "outputs": [],
   "source": [
    "# Apply One-Hot Encoding\n",
    "df_encoded = pd.get_dummies(df, columns=['CRASH_TIME_CATEGORY', 'AGE_CATEGORY'], drop_first=True)"
   ]
  },
  {
   "cell_type": "code",
   "execution_count": 209,
   "id": "5acc68d1-9573-43b7-be97-ed3b84dd2efc",
   "metadata": {},
   "outputs": [
    {
     "name": "stderr",
     "output_type": "stream",
     "text": [
      "C:\\Users\\ANAS\\AppData\\Local\\Temp\\ipykernel_26004\\3767245268.py:9: FutureWarning: DataFrame.applymap has been deprecated. Use DataFrame.map instead.\n",
      "  df_encoded = df_encoded.applymap(lambda x: int(x) if isinstance(x, bool) else x)\n"
     ]
    },
    {
     "name": "stdout",
     "output_type": "stream",
     "text": [
      "CRASH_DATE                     datetime64[ns]\n",
      "PERSON_ID                              object\n",
      "PERSON_TYPE                            object\n",
      "PERSON_INJURY                           int64\n",
      "PERSON_AGE                              int64\n",
      "EJECTION                               object\n",
      "EMOTIONAL_STATUS                       object\n",
      "BODILY_INJURY                          object\n",
      "POSITION_IN_VEHICLE                    object\n",
      "SAFETY_EQUIPMENT                       object\n",
      "COMPLAINT                              object\n",
      "PED_ROLE                               object\n",
      "PERSON_SEX                              int64\n",
      "CRASH_YEAR                              int64\n",
      "CRASH_MONTH                             int64\n",
      "CRASH_DAY                               int64\n",
      "DAYS_SINCE_FIRST                        int64\n",
      "EJECTION_New                            int64\n",
      "CRASH_TIME_CATEGORY_Evening             int64\n",
      "CRASH_TIME_CATEGORY_Morning             int64\n",
      "CRASH_TIME_CATEGORY_Night               int64\n",
      "AGE_CATEGORY_Young Adult                int64\n",
      "AGE_CATEGORY_Adult                      int64\n",
      "AGE_CATEGORY_Old                        int64\n",
      "CRASH_HOUR                            float64\n",
      "CRASH_MINUTE                          float64\n",
      "dtype: object\n"
     ]
    }
   ],
   "source": [
    "# Ensure CRASH_TIME is in string format before conversion\n",
    "df_encoded['CRASH_HOUR'] = pd.to_datetime(df_encoded['CRASH_TIME'], format='%H:%M').dt.hour\n",
    "df_encoded['CRASH_MINUTE'] = pd.to_datetime(df_encoded['CRASH_TIME'], format='%H:%M').dt.minute\n",
    "\n",
    "# Drop the original CRASH_TIME column\n",
    "df_encoded.drop(columns=['CRASH_TIME'], inplace=True)\n",
    "\n",
    "# Convert all boolean columns to integers (0 and 1)\n",
    "df_encoded = df_encoded.applymap(lambda x: int(x) if isinstance(x, bool) else x)\n",
    "\n",
    "# Check final data types\n",
    "print(df_encoded.dtypes)\n",
    "\n"
   ]
  },
  {
   "cell_type": "code",
   "execution_count": 211,
   "id": "0720d6f2-11fb-4aee-a0bf-6f858d841b29",
   "metadata": {},
   "outputs": [],
   "source": [
    "from sklearn.preprocessing import LabelEncoder\n",
    "\n",
    "# Apply Label Encoding to multiple categorical columns\n",
    "categorical_cols = ['EMOTIONAL_STATUS', 'BODILY_INJURY', 'POSITION_IN_VEHICLE', \n",
    "                    'SAFETY_EQUIPMENT', 'COMPLAINT', 'PED_ROLE']\n",
    "\n",
    "label_encoders = {}  # Dictionary to store encoders\n",
    "\n",
    "for col in categorical_cols:\n",
    "    le = LabelEncoder()\n",
    "    df_encoded[col] = le.fit_transform(df_encoded[col])\n",
    "    label_encoders[col] = le  # Save encoder for inverse transformation if needed\n"
   ]
  },
  {
   "cell_type": "code",
   "execution_count": 213,
   "id": "69c4da54-5281-42cf-9fad-9033252256b9",
   "metadata": {},
   "outputs": [
    {
     "data": {
      "text/plain": [
       "0           Evening\n",
       "1             Night\n",
       "2           Morning\n",
       "3           Evening\n",
       "4         Afternoon\n",
       "            ...    \n",
       "230650        Night\n",
       "230651      Evening\n",
       "230652      Morning\n",
       "230653    Afternoon\n",
       "230655    Afternoon\n",
       "Name: CRASH_TIME_CATEGORY, Length: 217661, dtype: object"
      ]
     },
     "execution_count": 213,
     "metadata": {},
     "output_type": "execute_result"
    }
   ],
   "source": [
    "df['CRASH_TIME_CATEGORY']"
   ]
  },
  {
   "cell_type": "code",
   "execution_count": 215,
   "id": "298be103-3253-4eac-b26e-3046824c04b6",
   "metadata": {},
   "outputs": [],
   "source": [
    "from sklearn.preprocessing import LabelEncoder\n",
    "\n",
    "# Initialize Label Encoder\n",
    "label_encoder = LabelEncoder()\n",
    "\n",
    "# Transform the Column\n",
    "df['CRASH_TIME_CATEGORY'] = label_encoder.fit_transform(df['CRASH_TIME_CATEGORY'])\n"
   ]
  },
  {
   "cell_type": "code",
   "execution_count": 217,
   "id": "a106b9fe-3267-4013-964d-e2f756cea63d",
   "metadata": {},
   "outputs": [],
   "source": [
    "df['CRASH_TIME_CATEGORY'] = df['CRASH_TIME_CATEGORY'].fillna(-1).astype(int)\n"
   ]
  },
  {
   "cell_type": "markdown",
   "id": "cb37230f-e5ce-400e-bb84-9b304ed69f35",
   "metadata": {},
   "source": [
    "<h4>Data Split</h4>"
   ]
  },
  {
   "cell_type": "code",
   "execution_count": 287,
   "id": "0170146e-68bd-41c2-90d4-723187461857",
   "metadata": {},
   "outputs": [],
   "source": [
    "# Splitting data into train and test sets\n",
    "X = df.drop(columns=['PERSON_INJURY'])  # Features\n",
    "y = df['PERSON_INJURY']  # Target variable\n",
    "\n",
    "X_train, X_test, y_train, y_test = train_test_split(X, y, test_size=0.2, random_state=42)"
   ]
  },
  {
   "cell_type": "code",
   "execution_count": null,
   "id": "7adbd28b-8b6f-4027-a2d6-c6dbc3fe0c8b",
   "metadata": {},
   "outputs": [],
   "source": [
    "X_train.shape"
   ]
  },
  {
   "cell_type": "code",
   "execution_count": null,
   "id": "b81a456b-c18f-4e3b-8924-cbe47c512572",
   "metadata": {},
   "outputs": [],
   "source": [
    "X_test.shape"
   ]
  },
  {
   "cell_type": "code",
   "execution_count": null,
   "id": "478608e1-782a-448b-b270-1951d3c86359",
   "metadata": {},
   "outputs": [],
   "source": [
    "y_train.shape"
   ]
  },
  {
   "cell_type": "code",
   "execution_count": null,
   "id": "e3b6c77d-533f-4891-89b4-7b0b43159fde",
   "metadata": {},
   "outputs": [],
   "source": [
    "y_test.shape"
   ]
  },
  {
   "cell_type": "markdown",
   "id": "dcf12586-5ca1-4198-b584-446782c4ef72",
   "metadata": {
    "jp-MarkdownHeadingCollapsed": true
   },
   "source": [
    "<h4>Encoding Bcos there is some data in Object form we need to change in int </h4>"
   ]
  },
  {
   "cell_type": "code",
   "execution_count": 221,
   "id": "965d3fa6-e5ef-4d9a-b9d6-8c0db80c9b1c",
   "metadata": {},
   "outputs": [],
   "source": [
    "# Convert 'CRASH_DATE' to datetime if not already in datetime format\n",
    "df_encoded['CRASH_DATE'] = pd.to_datetime(df_encoded['CRASH_DATE'], errors='coerce')\n",
    "\n",
    "# Extract features from 'CRASH_DATE' (e.g., year, month, day, weekday)\n",
    "df_encoded['CRASH_YEAR'] = df_encoded['CRASH_DATE'].dt.year\n",
    "df_encoded['CRASH_MONTH'] = df_encoded['CRASH_DATE'].dt.month\n",
    "df_encoded['CRASH_DAY'] = df_encoded['CRASH_DATE'].dt.day\n",
    "df_encoded['CRASH_WEEKDAY'] = df_encoded['CRASH_DATE'].dt.weekday\n"
   ]
  },
  {
   "cell_type": "code",
   "execution_count": 101,
   "id": "624597df-91f8-4070-bb8e-8720f1169843",
   "metadata": {},
   "outputs": [],
   "source": [
    "# Perform one-hot encoding on categorical variables\n",
    "df = pd.get_dummies(df, columns=['PERSON_TYPE', 'SAFETY_EQUIPMENT', 'EMOTIONAL_STATUS'], drop_first=True)\n"
   ]
  },
  {
   "cell_type": "code",
   "execution_count": 223,
   "id": "2447d522-278f-4167-bb34-82d9cda4da89",
   "metadata": {},
   "outputs": [],
   "source": [
    "from sklearn.preprocessing import LabelEncoder\n",
    "\n",
    "cols = ['EJECTION', 'BODILY_INJURY', 'POSITION_IN_VEHICLE', 'COMPLAINT', 'PED_ROLE']\n",
    "le = LabelEncoder()\n",
    "for col in cols:\n",
    "    df[col] = le.fit_transform(df[col])\n"
   ]
  },
  {
   "cell_type": "code",
   "execution_count": 225,
   "id": "041a5c63-7ac5-4482-9d7b-4489cddb6ca8",
   "metadata": {},
   "outputs": [],
   "source": [
    "time_mapping = {\n",
    "    'Late Night': 0,  # (12 AM - 6 AM)\n",
    "    'Morning': 1,      # (6 AM - 12 PM)\n",
    "    'Afternoon': 2,    # (12 PM - 6 PM)\n",
    "    'Evening': 3       # (6 PM - 12 AM)\n",
    "}\n",
    "\n",
    "df['CRASH_TIME_CATEGORY'] = df['CRASH_TIME_CATEGORY'].map(time_mapping)\n"
   ]
  },
  {
   "cell_type": "code",
   "execution_count": 227,
   "id": "ec46388e-095b-451f-83a1-42dfa70261b9",
   "metadata": {},
   "outputs": [],
   "source": [
    "# Define mapping dictionary\n",
    "age_mapping = {\n",
    "    'Child': 0,\n",
    "    'Teen': 1,\n",
    "    'Adult': 2,\n",
    "    'Senior': 3\n",
    "}\n",
    "\n",
    "# Apply mapping\n",
    "df['AGE_CATEGORY'] = df['AGE_CATEGORY'].map(age_mapping)\n",
    "\n",
    "# Fill NaN values (if any) before converting to integer\n",
    "df['AGE_CATEGORY'] = df['AGE_CATEGORY'].fillna(-1).astype(int)\n"
   ]
  },
  {
   "cell_type": "code",
   "execution_count": 229,
   "id": "fefdcb04-3eaa-48dc-b1b5-565b83ab6f5c",
   "metadata": {},
   "outputs": [
    {
     "name": "stdout",
     "output_type": "stream",
     "text": [
      "<class 'pandas.core.frame.DataFrame'>\n",
      "Index: 217661 entries, 0 to 230655\n",
      "Data columns (total 21 columns):\n",
      " #   Column               Non-Null Count   Dtype         \n",
      "---  ------               --------------   -----         \n",
      " 0   CRASH_DATE           217661 non-null  datetime64[ns]\n",
      " 1   CRASH_TIME           217661 non-null  object        \n",
      " 2   PERSON_ID            217661 non-null  object        \n",
      " 3   PERSON_TYPE          217661 non-null  object        \n",
      " 4   PERSON_INJURY        217661 non-null  int32         \n",
      " 5   PERSON_AGE           217661 non-null  int32         \n",
      " 6   EJECTION             217661 non-null  int32         \n",
      " 7   EMOTIONAL_STATUS     217661 non-null  object        \n",
      " 8   BODILY_INJURY        217661 non-null  int32         \n",
      " 9   POSITION_IN_VEHICLE  217661 non-null  int32         \n",
      " 10  SAFETY_EQUIPMENT     217661 non-null  object        \n",
      " 11  COMPLAINT            217661 non-null  int32         \n",
      " 12  PED_ROLE             217661 non-null  int32         \n",
      " 13  PERSON_SEX           217661 non-null  int32         \n",
      " 14  CRASH_TIME_CATEGORY  0 non-null       float64       \n",
      " 15  AGE_CATEGORY         217661 non-null  int32         \n",
      " 16  CRASH_YEAR           217661 non-null  int32         \n",
      " 17  CRASH_MONTH          217661 non-null  int32         \n",
      " 18  CRASH_DAY            217661 non-null  int32         \n",
      " 19  DAYS_SINCE_FIRST     217661 non-null  int64         \n",
      " 20  EJECTION_New         217661 non-null  int32         \n",
      "dtypes: datetime64[ns](1), float64(1), int32(13), int64(1), object(5)\n",
      "memory usage: 25.7+ MB\n"
     ]
    }
   ],
   "source": [
    "df.info()"
   ]
  },
  {
   "cell_type": "code",
   "execution_count": 119,
   "id": "1b5ce29c-913e-4f22-91f5-dc7410b2d166",
   "metadata": {},
   "outputs": [],
   "source": [
    "# Convert multiple columns to int32\n",
    "cols_to_convert = [\n",
    "    'AGE_CATEGORY', 'CRASH_YEAR', 'CRASH_MONTH', 'CRASH_DAY', \n",
    "    'DAYS_SINCE_FIRST', 'EJECTION_New'\n",
    "]\n",
    "\n",
    "df[cols_to_convert]= df[cols_to_convert].astype('int32')\n"
   ]
  },
  {
   "cell_type": "code",
   "execution_count": 231,
   "id": "1ef8066e-4bb8-4164-b86f-a8a9bc736a24",
   "metadata": {},
   "outputs": [],
   "source": [
    "df[cols_to_convert] = df[cols_to_convert].fillna(-1).astype('int32')\n"
   ]
  },
  {
   "cell_type": "code",
   "execution_count": 285,
   "id": "6d66ef1a-ed4a-4da7-82a0-7a2a19a0be63",
   "metadata": {},
   "outputs": [
    {
     "name": "stdout",
     "output_type": "stream",
     "text": [
      "<class 'pandas.core.frame.DataFrame'>\n",
      "Index: 217661 entries, 0 to 230655\n",
      "Data columns (total 20 columns):\n",
      " #   Column                Non-Null Count   Dtype\n",
      "---  ------                --------------   -----\n",
      " 0   PERSON_TYPE           217661 non-null  int32\n",
      " 1   PERSON_INJURY         217661 non-null  int32\n",
      " 2   PERSON_AGE            217661 non-null  int32\n",
      " 3   EJECTION              217661 non-null  int32\n",
      " 4   EMOTIONAL_STATUS      217661 non-null  int32\n",
      " 5   BODILY_INJURY         217661 non-null  int32\n",
      " 6   POSITION_IN_VEHICLE   217661 non-null  int32\n",
      " 7   COMPLAINT             217661 non-null  int32\n",
      " 8   PED_ROLE              217661 non-null  int32\n",
      " 9   PERSON_SEX            217661 non-null  int32\n",
      " 10  CRASH_TIME_CATEGORY   217661 non-null  int32\n",
      " 11  AGE_CATEGORY          217661 non-null  int32\n",
      " 12  CRASH_YEAR            217661 non-null  int32\n",
      " 13  CRASH_MONTH           217661 non-null  int32\n",
      " 14  CRASH_DAY             217661 non-null  int32\n",
      " 15  DAYS_SINCE_FIRST      217661 non-null  int32\n",
      " 16  EJECTION_New          217661 non-null  int32\n",
      " 17  SAFETY_EQUIPMENT_New  217661 non-null  int64\n",
      " 18  CRASH_HOUR            217661 non-null  int32\n",
      " 19  CRASH_MINUTE          217661 non-null  int32\n",
      "dtypes: int32(19), int64(1)\n",
      "memory usage: 19.1 MB\n"
     ]
    }
   ],
   "source": [
    "df.info()"
   ]
  },
  {
   "cell_type": "code",
   "execution_count": 281,
   "id": "99aaba6a-14ff-423e-877e-01a7863c1705",
   "metadata": {},
   "outputs": [
    {
     "data": {
      "text/plain": [
       "array(['Occupant', 'Pedestrian', 'Bicyclist', 'Other Motorized'],\n",
       "      dtype=object)"
      ]
     },
     "execution_count": 281,
     "metadata": {},
     "output_type": "execute_result"
    }
   ],
   "source": [
    "df['PERSON_TYPE'].unique()"
   ]
  },
  {
   "cell_type": "code",
   "execution_count": 283,
   "id": "844baabe-a847-4ebf-aff1-1ac2f9adb440",
   "metadata": {},
   "outputs": [
    {
     "data": {
      "text/plain": [
       "{'Bicyclist': 0, 'Occupant': 1, 'Other Motorized': 2, 'Pedestrian': 3}"
      ]
     },
     "execution_count": 283,
     "metadata": {},
     "output_type": "execute_result"
    }
   ],
   "source": [
    "from sklearn.preprocessing import LabelEncoder\n",
    "\n",
    "# Initialize and apply Label Encoding\n",
    "label_encoder = LabelEncoder()\n",
    "df['PERSON_TYPE'] = label_encoder.fit_transform(df['PERSON_TYPE'])\n",
    "\n",
    "# Show mapping\n",
    "dict(zip(label_encoder.classes_, label_encoder.transform(label_encoder.classes_)))\n"
   ]
  },
  {
   "cell_type": "code",
   "execution_count": 277,
   "id": "dfd3056f-1f13-47d0-9c2f-bbc060ffc164",
   "metadata": {},
   "outputs": [
    {
     "data": {
      "text/plain": [
       "{'Apparent Death': 0,\n",
       " 'Conscious': 1,\n",
       " 'Does Not Apply': 2,\n",
       " 'Incoherent': 3,\n",
       " 'Semiconscious': 4,\n",
       " 'Shock': 5,\n",
       " 'Unconscious': 6,\n",
       " 'Unknown': 7}"
      ]
     },
     "execution_count": 277,
     "metadata": {},
     "output_type": "execute_result"
    }
   ],
   "source": [
    "from sklearn.preprocessing import LabelEncoder\n",
    "\n",
    "# Initialize the encoder\n",
    "label_encoder = LabelEncoder()\n",
    "\n",
    "# Apply encoding\n",
    "df['EMOTIONAL_STATUS'] = label_encoder.fit_transform(df['EMOTIONAL_STATUS'])\n",
    "\n",
    "# Show mapping\n",
    "dict(zip(label_encoder.classes_, label_encoder.transform(label_encoder.classes_)))\n"
   ]
  },
  {
   "cell_type": "code",
   "execution_count": 267,
   "id": "ef69c59c-3f4a-41f6-ba51-7da02343c513",
   "metadata": {},
   "outputs": [],
   "source": [
    "# Replace empty strings or NaNs with a default time (e.g., '00:00')\n",
    "df['CRASH_TIME'] = df['CRASH_TIME'].replace('', '00:00').fillna('00:00')\n",
    "\n"
   ]
  },
  {
   "cell_type": "code",
   "execution_count": 269,
   "id": "8fd7ede7-5c1d-40d9-9646-fc2938113001",
   "metadata": {},
   "outputs": [],
   "source": [
    "df[['CRASH_HOUR', 'CRASH_MINUTE']] = df['CRASH_TIME'].str.split(':', expand=True)\n",
    "\n",
    "# Convert to integer safely, forcing errors to NaN\n",
    "df['CRASH_HOUR'] = pd.to_numeric(df['CRASH_HOUR'], errors='coerce').fillna(0).astype(int)\n",
    "df['CRASH_MINUTE'] = pd.to_numeric(df['CRASH_MINUTE'], errors='coerce').fillna(0).astype(int)\n"
   ]
  },
  {
   "cell_type": "code",
   "execution_count": 271,
   "id": "b3af194d-ee92-496c-8fd1-df11a517ff5d",
   "metadata": {},
   "outputs": [],
   "source": [
    "df.drop(columns=['CRASH_TIME'], inplace=True)\n"
   ]
  },
  {
   "cell_type": "code",
   "execution_count": 247,
   "id": "7cc7fb17-cb3f-4c35-a49e-7fc91d71b1ae",
   "metadata": {},
   "outputs": [],
   "source": [
    "# Define mapping manually\n",
    "time_mapping = {\n",
    "    'Morning': 0,\n",
    "    'Afternoon': 1,\n",
    "    'Evening': 2,\n",
    "    'Night': 3\n",
    "}\n",
    "\n",
    "df['CRASH_TIME_CATEGORY'] = df['CRASH_TIME_CATEGORY'].map(time_mapping)\n",
    "\n",
    "# Fill any NaNs with a default category (e.g., -1)\n",
    "df['CRASH_TIME_CATEGORY'] = df['CRASH_TIME_CATEGORY'].fillna(-1).astype(int)\n"
   ]
  },
  {
   "cell_type": "code",
   "execution_count": 259,
   "id": "32899bba-48c8-4a55-8669-f68c4f51c809",
   "metadata": {
    "scrolled": true
   },
   "outputs": [
    {
     "name": "stdout",
     "output_type": "stream",
     "text": [
      "     SAFETY_EQUIPMENT  SAFETY_EQUIPMENT_New\n",
      "0  Lap Belt & Harness                     3\n",
      "1             Unknown                     0\n",
      "2             Unknown                     0\n",
      "3             Unknown                     0\n",
      "4  Lap Belt & Harness                     3\n"
     ]
    }
   ],
   "source": [
    "print(df[['SAFETY_EQUIPMENT', 'SAFETY_EQUIPMENT_New']].head())\n"
   ]
  },
  {
   "cell_type": "code",
   "execution_count": 261,
   "id": "c4100aab-663e-4205-a080-676151ea7344",
   "metadata": {},
   "outputs": [],
   "source": [
    "df.drop(columns=['SAFETY_EQUIPMENT'], inplace=True)\n"
   ]
  },
  {
   "cell_type": "code",
   "execution_count": 257,
   "id": "81fc5e8b-aced-4699-96a0-d1c1d382c2b6",
   "metadata": {},
   "outputs": [],
   "source": [
    "safety_mapping = {\n",
    "    'Unknown': 0,\n",
    "    '-': 0,  # Treat \"-\" as missing\n",
    "    'Other': 1,\n",
    "    'Lap Belt': 2,\n",
    "    'Lap Belt & Harness': 3,\n",
    "    'Harness': 3,\n",
    "    'Child Restraint Only': 4,\n",
    "    'Helmet Only (In-Line Skater/Bicyclist)': 5,\n",
    "    'Helmet (Motorcycle Only)': 6,\n",
    "    'Helmet/Other (In-Line Skater/Bicyclist)': 6,\n",
    "    'Stoppers Only (In-Line Skater/Bicyclist)': 6,\n",
    "    'Pads Only (In-Line Skater/Bicyclist)': 6,\n",
    "    'Air Bag Deployed': 7,\n",
    "    'Air Bag Deployed/Lap Belt': 8,\n",
    "    'Air Bag Deployed/Lap Belt/Harness': 9,\n",
    "    'Air Bag Deployed/Child Restraint': 10\n",
    "}\n",
    "\n",
    "df['SAFETY_EQUIPMENT_New'] = df['SAFETY_EQUIPMENT'].map(safety_mapping)\n"
   ]
  },
  {
   "cell_type": "code",
   "execution_count": 289,
   "id": "594feea3-42d5-4431-86f7-0044ef792144",
   "metadata": {},
   "outputs": [],
   "source": [
    "# Rename column if necessary\n",
    "scaler = StandardScaler()\n",
    "X_train_scaled = scaler.fit_transform(X_train)\n",
    "X_test_scaled = scaler.transform(X_test)"
   ]
  },
  {
   "cell_type": "code",
   "execution_count": 291,
   "id": "51602b91-4738-4806-ac7f-8f4ca1e86340",
   "metadata": {},
   "outputs": [],
   "source": [
    "from sklearn.feature_selection import RFE\n",
    "from sklearn.linear_model import LogisticRegression\n",
    "from sklearn.ensemble import RandomForestClassifier"
   ]
  },
  {
   "cell_type": "markdown",
   "id": "4a962c8c-c534-4bd3-a320-31f51114fba0",
   "metadata": {},
   "source": [
    "<h4>RFE Feature Selection</h4>"
   ]
  },
  {
   "cell_type": "code",
   "execution_count": 293,
   "id": "9e1ae8ad-3bed-4f21-9132-54422ceb3ef9",
   "metadata": {},
   "outputs": [
    {
     "name": "stdout",
     "output_type": "stream",
     "text": [
      "Selected Features: \n",
      " Index(['PERSON_TYPE', 'PERSON_AGE', 'EMOTIONAL_STATUS', 'BODILY_INJURY',\n",
      "       'POSITION_IN_VEHICLE', 'COMPLAINT', 'PED_ROLE', 'PERSON_SEX',\n",
      "       'CRASH_HOUR', 'CRASH_MINUTE'],\n",
      "      dtype='object')\n"
     ]
    }
   ],
   "source": [
    "# Define the model (change LogisticRegression to RandomForestClassifier if needed)\n",
    "model = LogisticRegression(max_iter=1000, solver='liblinear')  # or RandomForestClassifier()\n",
    "\n",
    "# Initialize RFE\n",
    "rfe = RFE(model, n_features_to_select=10)  # Select top 10 important features\n",
    "\n",
    "# Fit RFE on dataset\n",
    "rfe.fit(X_train_scaled, y_train)\n",
    "\n",
    "# Get selected feature names\n",
    "selected_features = X_train.columns[rfe.support_]\n",
    "print(\"Selected Features: \\n\", selected_features)\n"
   ]
  },
  {
   "cell_type": "code",
   "execution_count": 295,
   "id": "3293c2b3-e4e6-4929-bf16-4138947688ec",
   "metadata": {},
   "outputs": [],
   "source": [
    "# Use only selected features for training\n",
    "X_train_selected = X_train_scaled[:, rfe.support_]\n",
    "X_test_selected = X_test_scaled[:, rfe.support_]\n"
   ]
  },
  {
   "cell_type": "code",
   "execution_count": 297,
   "id": "92128d8f-0a48-4e27-9be2-9fd325f38ea9",
   "metadata": {},
   "outputs": [
    {
     "data": {
      "image/png": "[encoded data removed]",
      "text/plain": [
       "<Figure size 1000x600 with 1 Axes>"
      ]
     },
     "metadata": {},
     "output_type": "display_data"
    }
   ],
   "source": [
    "import matplotlib.pyplot as plt\n",
    "import numpy as np\n",
    "\n",
    "# Get feature rankings\n",
    "feature_ranking = rfe.ranking_\n",
    "\n",
    "# Get feature names and rankings\n",
    "features = X_train.columns\n",
    "ranking = np.array(feature_ranking)\n",
    "\n",
    "# Sort features based on importance (lower rank = more important)\n",
    "sorted_indices = np.argsort(ranking)\n",
    "sorted_features = features[sorted_indices]\n",
    "sorted_ranking = ranking[sorted_indices]\n",
    "\n",
    "# Plot the feature rankings\n",
    "plt.figure(figsize=(10, 6))\n",
    "plt.barh(sorted_features, sorted_ranking, color='skyblue')\n",
    "plt.xlabel('Feature Ranking (Lower is better)')\n",
    "plt.ylabel('Features')\n",
    "plt.title('Feature Selection using RFE')\n",
    "plt.gca().invert_yaxis()  # Invert y-axis to show the best features at the top\n",
    "plt.show()\n"
   ]
  },
  {
   "cell_type": "code",
   "execution_count": 299,
   "id": "8383115b-460a-4017-8092-6cbce46560d0",
   "metadata": {},
   "outputs": [
    {
     "data": {
      "text/html": [
       "<style>#sk-container-id-1 {color: black;background-color: white;}#sk-container-id-1 pre{padding: 0;}#sk-container-id-1 div.sk-toggleable {background-color: white;}#sk-container-id-1 label.sk-toggleable__label {cursor: pointer;display: block;width: 100%;margin-bottom: 0;padding: 0.3em;box-sizing: border-box;text-align: center;}#sk-container-id-1 label.sk-toggleable__label-arrow:before {content: \"▸\";float: left;margin-right: 0.25em;color: #696969;}#sk-container-id-1 label.sk-toggleable__label-arrow:hover:before {color: black;}#sk-container-id-1 div.sk-estimator:hover label.sk-toggleable__label-arrow:before {color: black;}#sk-container-id-1 div.sk-toggleable__content {max-height: 0;max-width: 0;overflow: hidden;text-align: left;background-color: #f0f8ff;}#sk-container-id-1 div.sk-toggleable__content pre {margin: 0.2em;color: black;border-radius: 0.25em;background-color: #f0f8ff;}#sk-container-id-1 input.sk-toggleable__control:checked~div.sk-toggleable__content {max-height: 200px;max-width: 100%;overflow: auto;}#sk-container-id-1 input.sk-toggleable__control:checked~label.sk-toggleable__label-arrow:before {content: \"▾\";}#sk-container-id-1 div.sk-estimator input.sk-toggleable__control:checked~label.sk-toggleable__label {background-color: #d4ebff;}#sk-container-id-1 div.sk-label input.sk-toggleable__control:checked~label.sk-toggleable__label {background-color: #d4ebff;}#sk-container-id-1 input.sk-hidden--visually {border: 0;clip: rect(1px 1px 1px 1px);clip: rect(1px, 1px, 1px, 1px);height: 1px;margin: -1px;overflow: hidden;padding: 0;position: absolute;width: 1px;}#sk-container-id-1 div.sk-estimator {font-family: monospace;background-color: #f0f8ff;border: 1px dotted black;border-radius: 0.25em;box-sizing: border-box;margin-bottom: 0.5em;}#sk-container-id-1 div.sk-estimator:hover {background-color: #d4ebff;}#sk-container-id-1 div.sk-parallel-item::after {content: \"\";width: 100%;border-bottom: 1px solid gray;flex-grow: 1;}#sk-container-id-1 div.sk-label:hover label.sk-toggleable__label {background-color: #d4ebff;}#sk-container-id-1 div.sk-serial::before {content: \"\";position: absolute;border-left: 1px solid gray;box-sizing: border-box;top: 0;bottom: 0;left: 50%;z-index: 0;}#sk-container-id-1 div.sk-serial {display: flex;flex-direction: column;align-items: center;background-color: white;padding-right: 0.2em;padding-left: 0.2em;position: relative;}#sk-container-id-1 div.sk-item {position: relative;z-index: 1;}#sk-container-id-1 div.sk-parallel {display: flex;align-items: stretch;justify-content: center;background-color: white;position: relative;}#sk-container-id-1 div.sk-item::before, #sk-container-id-1 div.sk-parallel-item::before {content: \"\";position: absolute;border-left: 1px solid gray;box-sizing: border-box;top: 0;bottom: 0;left: 50%;z-index: -1;}#sk-container-id-1 div.sk-parallel-item {display: flex;flex-direction: column;z-index: 1;position: relative;background-color: white;}#sk-container-id-1 div.sk-parallel-item:first-child::after {align-self: flex-end;width: 50%;}#sk-container-id-1 div.sk-parallel-item:last-child::after {align-self: flex-start;width: 50%;}#sk-container-id-1 div.sk-parallel-item:only-child::after {width: 0;}#sk-container-id-1 div.sk-dashed-wrapped {border: 1px dashed gray;margin: 0 0.4em 0.5em 0.4em;box-sizing: border-box;padding-bottom: 0.4em;background-color: white;}#sk-container-id-1 div.sk-label label {font-family: monospace;font-weight: bold;display: inline-block;line-height: 1.2em;}#sk-container-id-1 div.sk-label-container {text-align: center;}#sk-container-id-1 div.sk-container {/* jupyter's `normalize.less` sets `[hidden] { display: none; }` but bootstrap.min.css set `[hidden] { display: none !important; }` so we also need the `!important` here to be able to override the default hidden behavior on the sphinx rendered scikit-learn.org. See: https://github.com/scikit-learn/scikit-learn/issues/21755 */display: inline-block !important;position: relative;}#sk-container-id-1 div.sk-text-repr-fallback {display: none;}</style><div id=\"sk-container-id-1\" class=\"sk-top-container\"><div class=\"sk-text-repr-fallback\"><pre>LogisticRegression()</pre><b>In a Jupyter environment, please rerun this cell to show the HTML representation or trust the notebook. <br />On GitHub, the HTML representation is unable to render, please try loading this page with nbviewer.org.</b></div><div class=\"sk-container\" hidden><div class=\"sk-item\"><div class=\"sk-estimator sk-toggleable\"><input class=\"sk-toggleable__control sk-hidden--visually\" id=\"sk-estimator-id-1\" type=\"checkbox\" checked><label for=\"sk-estimator-id-1\" class=\"sk-toggleable__label sk-toggleable__label-arrow\">LogisticRegression</label><div class=\"sk-toggleable__content\"><pre>LogisticRegression()</pre></div></div></div></div></div>"
      ],
      "text/plain": [
       "LogisticRegression()"
      ]
     },
     "execution_count": 299,
     "metadata": {},
     "output_type": "execute_result"
    }
   ],
   "source": [
    "# Train Logistic Regression Model\n",
    "model = LogisticRegression()\n",
    "model.fit(X_train_scaled, y_train)"
   ]
  },
  {
   "cell_type": "code",
   "execution_count": 301,
   "id": "50a2ea34-8e2b-497b-8898-e023ef496261",
   "metadata": {},
   "outputs": [],
   "source": [
    "# Predictions\n",
    "y_pred = model.predict(X_test_scaled)\n",
    "y_prob = model.predict_proba(X_test_scaled)[:, 1]  # For ROC curve"
   ]
  },
  {
   "cell_type": "code",
   "execution_count": 303,
   "id": "c3a6cd2e-f8c0-4e9a-be14-f6c5e935ecb5",
   "metadata": {},
   "outputs": [
    {
     "name": "stdout",
     "output_type": "stream",
     "text": [
      "              precision    recall  f1-score   support\n",
      "\n",
      "           0       1.00      1.00      1.00     43363\n",
      "           1       0.00      0.00      0.00       170\n",
      "\n",
      "    accuracy                           1.00     43533\n",
      "   macro avg       0.50      0.50      0.50     43533\n",
      "weighted avg       0.99      1.00      0.99     43533\n",
      "\n"
     ]
    },
    {
     "name": "stderr",
     "output_type": "stream",
     "text": [
      "C:\\Users\\ANAS\\anaconda3\\Lib\\site-packages\\sklearn\\metrics\\_classification.py:1344: UndefinedMetricWarning: Precision and F-score are ill-defined and being set to 0.0 in labels with no predicted samples. Use `zero_division` parameter to control this behavior.\n",
      "  _warn_prf(average, modifier, msg_start, len(result))\n",
      "C:\\Users\\ANAS\\anaconda3\\Lib\\site-packages\\sklearn\\metrics\\_classification.py:1344: UndefinedMetricWarning: Precision and F-score are ill-defined and being set to 0.0 in labels with no predicted samples. Use `zero_division` parameter to control this behavior.\n",
      "  _warn_prf(average, modifier, msg_start, len(result))\n",
      "C:\\Users\\ANAS\\anaconda3\\Lib\\site-packages\\sklearn\\metrics\\_classification.py:1344: UndefinedMetricWarning: Precision and F-score are ill-defined and being set to 0.0 in labels with no predicted samples. Use `zero_division` parameter to control this behavior.\n",
      "  _warn_prf(average, modifier, msg_start, len(result))\n"
     ]
    }
   ],
   "source": [
    "# Print Classification Report\n",
    "print(classification_report(y_test, y_pred))"
   ]
  },
  {
   "cell_type": "code",
   "execution_count": 305,
   "id": "f2ac0a69-d42e-4a89-b129-b8d8f3b94b76",
   "metadata": {},
   "outputs": [
    {
     "data": {
      "image/png": "[encoded data removed]",
      "text/plain": [
       "<Figure size 640x480 with 1 Axes>"
      ]
     },
     "metadata": {},
     "output_type": "display_data"
    }
   ],
   "source": [
    "import seaborn as sns\n",
    "\n",
    "sns.countplot(x=y_train)  # Check the imbalance\n",
    "plt.title(\"Class Distribution in Training Set\")\n",
    "plt.show()\n"
   ]
  },
  {
   "cell_type": "code",
   "execution_count": 330,
   "id": "a6cb92be-95a1-49ba-aea9-df96d0a17a2e",
   "metadata": {},
   "outputs": [
    {
     "data": {
      "image/png": "[encoded data removed]",
      "text/plain": [
       "<Figure size 640x480 with 1 Axes>"
      ]
     },
     "metadata": {},
     "output_type": "display_data"
    }
   ],
   "source": [
    "sns.countplot(x=y_train)\n",
    "plt.yscale(\"log\")\n",
    "plt.title(\"Class Distribution in Training Set (Log Scale)\")\n",
    "plt.xlabel(\"PERSON_INJURY\")\n",
    "plt.ylabel(\"Count (Log Scale)\")\n",
    "plt.show()\n"
   ]
  },
  {
   "cell_type": "code",
   "execution_count": 337,
   "id": "ac13e51b-53c8-4109-af3f-aaa4de694458",
   "metadata": {},
   "outputs": [
    {
     "data": {
      "image/png": "[encoded data removed]",
      "text/plain": [
       "<Figure size 800x500 with 1 Axes>"
      ]
     },
     "metadata": {},
     "output_type": "display_data"
    }
   ],
   "source": [
    "class_counts = y_train.value_counts(normalize=True) * 100\n",
    "\n",
    "plt.figure(figsize=(8, 5))\n",
    "sns.barplot(x=class_counts.index, y=class_counts.values)\n",
    "plt.title(\"Class Distribution in Training Set (Percentage)\")\n",
    "plt.xlabel(\"PERSON_INJURY\")\n",
    "plt.ylabel(\"Percentage\")\n",
    "plt.show()\n",
    "\n"
   ]
  },
  {
   "cell_type": "code",
   "execution_count": 342,
   "id": "66f4adc9-229c-41d9-b7bd-30fa8efe553d",
   "metadata": {},
   "outputs": [
    {
     "name": "stdout",
     "output_type": "stream",
     "text": [
      "Class Distribution in Training Set:\n",
      "PERSON_INJURY\n",
      "0    173414\n",
      "1       714\n",
      "Name: count, dtype: int64\n",
      "\n",
      "Percentage Distribution:\n",
      "PERSON_INJURY\n",
      "0    99.589957\n",
      "1     0.410043\n",
      "Name: count, dtype: float64\n"
     ]
    }
   ],
   "source": [
    "# Count the occurrences of each class\n",
    "class_counts = y_train.value_counts()\n",
    "\n",
    "# Print the counts\n",
    "print(\"Class Distribution in Training Set:\")\n",
    "print(class_counts)\n",
    "\n",
    "# Display percentages\n",
    "print(\"\\nPercentage Distribution:\")\n",
    "print(class_counts / class_counts.sum() * 100)\n"
   ]
  },
  {
   "cell_type": "code",
   "execution_count": 307,
   "id": "73725641-10f5-4fd2-abc7-3ffbff664dc6",
   "metadata": {},
   "outputs": [
    {
     "name": "stdout",
     "output_type": "stream",
     "text": [
      "Class distribution after SMOTE: PERSON_INJURY\n",
      "0    173414\n",
      "1     52024\n",
      "Name: count, dtype: int64\n"
     ]
    }
   ],
   "source": [
    "from imblearn.over_sampling import SMOTE\n",
    "\n",
    "smote = SMOTE(sampling_strategy=0.3, random_state=42)  # Adjust ratio as needed\n",
    "X_train_resampled, y_train_resampled = smote.fit_resample(X_train_scaled, y_train)\n",
    "\n",
    "print(\"Class distribution after SMOTE:\", y_train_resampled.value_counts())"
   ]
  },
  {
   "cell_type": "code",
   "execution_count": 309,
   "id": "b24964e9-9e74-4487-95c3-eb1ff74018b3",
   "metadata": {},
   "outputs": [],
   "source": [
    "from imblearn.under_sampling import RandomUnderSampler\n",
    "\n",
    "rus = RandomUnderSampler(sampling_strategy=0.5, random_state=42)  # Reduce class 0\n",
    "X_train_resampled, y_train_resampled = rus.fit_resample(X_train_scaled, y_train)\n"
   ]
  },
  {
   "cell_type": "markdown",
   "id": "3cc3f42e-506b-41f5-bbab-9a9b5491d409",
   "metadata": {},
   "source": [
    "<h4>Using Logistic Regression</h4>"
   ]
  },
  {
   "cell_type": "code",
   "execution_count": 311,
   "id": "1976c987-477d-4b35-ab09-17a775317533",
   "metadata": {},
   "outputs": [
    {
     "name": "stdout",
     "output_type": "stream",
     "text": [
      "              precision    recall  f1-score   support\n",
      "\n",
      "           0       1.00      0.87      0.93     43363\n",
      "           1       0.01      0.47      0.03       170\n",
      "\n",
      "    accuracy                           0.86     43533\n",
      "   macro avg       0.51      0.67      0.48     43533\n",
      "weighted avg       0.99      0.86      0.92     43533\n",
      "\n"
     ]
    }
   ],
   "source": [
    "# Train Logistic Regression Again\n",
    "model = LogisticRegression()\n",
    "model.fit(X_train_resampled, y_train_resampled)\n",
    "\n",
    "# Predictions\n",
    "y_pred = model.predict(X_test_scaled)\n",
    "y_prob = model.predict_proba(X_test_scaled)[:, 1]\n",
    "\n",
    "# Print New Classification Report\n",
    "print(classification_report(y_test, y_pred))\n"
   ]
  },
  {
   "cell_type": "markdown",
   "id": "089d6434-2cdc-46cd-ae7d-5eae69ff2833",
   "metadata": {},
   "source": [
    "<h4>Using Rendom Forest</h4>"
   ]
  },
  {
   "cell_type": "code",
   "execution_count": 357,
   "id": "558873a7-275a-4470-9a2f-bd9f794f756c",
   "metadata": {},
   "outputs": [
    {
     "name": "stdout",
     "output_type": "stream",
     "text": [
      "              precision    recall  f1-score   support\n",
      "\n",
      "           0       1.00      0.93      0.96     43363\n",
      "           1       0.03      0.66      0.07       170\n",
      "\n",
      "    accuracy                           0.93     43533\n",
      "   macro avg       0.52      0.80      0.51     43533\n",
      "weighted avg       0.99      0.93      0.96     43533\n",
      "\n"
     ]
    }
   ],
   "source": [
    "from sklearn.ensemble import RandomForestClassifier\n",
    "\n",
    "rf_model = RandomForestClassifier(class_weight=\"balanced\", n_estimators=100, random_state=42)\n",
    "rf_model.fit(X_train_resampled, y_train_resampled)\n",
    "\n",
    "y_pred_rf = rf_model.predict(X_test_scaled)\n",
    "print(classification_report(y_test, y_pred_rf))\n"
   ]
  },
  {
   "cell_type": "code",
   "execution_count": 356,
   "id": "5776e072-0762-45cd-9e4b-3400717906f3",
   "metadata": {},
   "outputs": [
    {
     "name": "stderr",
     "output_type": "stream",
     "text": [
      "C:\\Users\\ANAS\\anaconda3\\Lib\\site-packages\\imblearn\\ensemble\\_forest.py:546: FutureWarning: The default of `sampling_strategy` will change from `'auto'` to `'all'` in version 0.13. This change will follow the implementation proposed in the original paper. Set to `'all'` to silence this warning and adopt the future behaviour.\n",
      "  warn(\n",
      "C:\\Users\\ANAS\\anaconda3\\Lib\\site-packages\\imblearn\\ensemble\\_forest.py:558: FutureWarning: The default of `replacement` will change from `False` to `True` in version 0.13. This change will follow the implementation proposed in the original paper. Set to `True` to silence this warning and adopt the future behaviour.\n",
      "  warn(\n"
     ]
    }
   ],
   "source": [
    "from imblearn.ensemble import BalancedRandomForestClassifier\n",
    "\n",
    "clf = BalancedRandomForestClassifier(n_estimators=100, random_state=42)\n",
    "clf.fit(X_train, y_train)\n",
    "y_pred = clf.predict(X_test)\n"
   ]
  },
  {
   "cell_type": "code",
   "execution_count": 352,
   "id": "97536872-e0e2-49db-9b31-01f359df0b88",
   "metadata": {},
   "outputs": [
    {
     "name": "stdout",
     "output_type": "stream",
     "text": [
      "Class distribution after undersampling:\n",
      " PERSON_INJURY\n",
      "0    1428\n",
      "1     714\n",
      "Name: count, dtype: int64\n"
     ]
    }
   ],
   "source": [
    "from imblearn.under_sampling import RandomUnderSampler\n",
    "\n",
    "undersampler = RandomUnderSampler(sampling_strategy=0.5, random_state=42)\n",
    "X_resampled, y_resampled = undersampler.fit_resample(X_train, y_train)\n",
    "\n",
    "print(\"Class distribution after undersampling:\\n\", y_resampled.value_counts())\n"
   ]
  },
  {
   "cell_type": "code",
   "execution_count": 354,
   "id": "2269fb2c-52fe-49e7-8404-22460ca19de7",
   "metadata": {},
   "outputs": [
    {
     "name": "stderr",
     "output_type": "stream",
     "text": [
      "C:\\Users\\ANAS\\anaconda3\\Lib\\site-packages\\sklearn\\linear_model\\_logistic.py:458: ConvergenceWarning: lbfgs failed to converge (status=1):\n",
      "STOP: TOTAL NO. of ITERATIONS REACHED LIMIT.\n",
      "\n",
      "Increase the number of iterations (max_iter) or scale the data as shown in:\n",
      "    https://scikit-learn.org/stable/modules/preprocessing.html\n",
      "Please also refer to the documentation for alternative solver options:\n",
      "    https://scikit-learn.org/stable/modules/linear_model.html#logistic-regression\n",
      "  n_iter_i = _check_optimize_result(\n"
     ]
    },
    {
     "data": {
      "text/html": [
       "<style>#sk-container-id-2 {color: black;background-color: white;}#sk-container-id-2 pre{padding: 0;}#sk-container-id-2 div.sk-toggleable {background-color: white;}#sk-container-id-2 label.sk-toggleable__label {cursor: pointer;display: block;width: 100%;margin-bottom: 0;padding: 0.3em;box-sizing: border-box;text-align: center;}#sk-container-id-2 label.sk-toggleable__label-arrow:before {content: \"▸\";float: left;margin-right: 0.25em;color: #696969;}#sk-container-id-2 label.sk-toggleable__label-arrow:hover:before {color: black;}#sk-container-id-2 div.sk-estimator:hover label.sk-toggleable__label-arrow:before {color: black;}#sk-container-id-2 div.sk-toggleable__content {max-height: 0;max-width: 0;overflow: hidden;text-align: left;background-color: #f0f8ff;}#sk-container-id-2 div.sk-toggleable__content pre {margin: 0.2em;color: black;border-radius: 0.25em;background-color: #f0f8ff;}#sk-container-id-2 input.sk-toggleable__control:checked~div.sk-toggleable__content {max-height: 200px;max-width: 100%;overflow: auto;}#sk-container-id-2 input.sk-toggleable__control:checked~label.sk-toggleable__label-arrow:before {content: \"▾\";}#sk-container-id-2 div.sk-estimator input.sk-toggleable__control:checked~label.sk-toggleable__label {background-color: #d4ebff;}#sk-container-id-2 div.sk-label input.sk-toggleable__control:checked~label.sk-toggleable__label {background-color: #d4ebff;}#sk-container-id-2 input.sk-hidden--visually {border: 0;clip: rect(1px 1px 1px 1px);clip: rect(1px, 1px, 1px, 1px);height: 1px;margin: -1px;overflow: hidden;padding: 0;position: absolute;width: 1px;}#sk-container-id-2 div.sk-estimator {font-family: monospace;background-color: #f0f8ff;border: 1px dotted black;border-radius: 0.25em;box-sizing: border-box;margin-bottom: 0.5em;}#sk-container-id-2 div.sk-estimator:hover {background-color: #d4ebff;}#sk-container-id-2 div.sk-parallel-item::after {content: \"\";width: 100%;border-bottom: 1px solid gray;flex-grow: 1;}#sk-container-id-2 div.sk-label:hover label.sk-toggleable__label {background-color: #d4ebff;}#sk-container-id-2 div.sk-serial::before {content: \"\";position: absolute;border-left: 1px solid gray;box-sizing: border-box;top: 0;bottom: 0;left: 50%;z-index: 0;}#sk-container-id-2 div.sk-serial {display: flex;flex-direction: column;align-items: center;background-color: white;padding-right: 0.2em;padding-left: 0.2em;position: relative;}#sk-container-id-2 div.sk-item {position: relative;z-index: 1;}#sk-container-id-2 div.sk-parallel {display: flex;align-items: stretch;justify-content: center;background-color: white;position: relative;}#sk-container-id-2 div.sk-item::before, #sk-container-id-2 div.sk-parallel-item::before {content: \"\";position: absolute;border-left: 1px solid gray;box-sizing: border-box;top: 0;bottom: 0;left: 50%;z-index: -1;}#sk-container-id-2 div.sk-parallel-item {display: flex;flex-direction: column;z-index: 1;position: relative;background-color: white;}#sk-container-id-2 div.sk-parallel-item:first-child::after {align-self: flex-end;width: 50%;}#sk-container-id-2 div.sk-parallel-item:last-child::after {align-self: flex-start;width: 50%;}#sk-container-id-2 div.sk-parallel-item:only-child::after {width: 0;}#sk-container-id-2 div.sk-dashed-wrapped {border: 1px dashed gray;margin: 0 0.4em 0.5em 0.4em;box-sizing: border-box;padding-bottom: 0.4em;background-color: white;}#sk-container-id-2 div.sk-label label {font-family: monospace;font-weight: bold;display: inline-block;line-height: 1.2em;}#sk-container-id-2 div.sk-label-container {text-align: center;}#sk-container-id-2 div.sk-container {/* jupyter's `normalize.less` sets `[hidden] { display: none; }` but bootstrap.min.css set `[hidden] { display: none !important; }` so we also need the `!important` here to be able to override the default hidden behavior on the sphinx rendered scikit-learn.org. See: https://github.com/scikit-learn/scikit-learn/issues/21755 */display: inline-block !important;position: relative;}#sk-container-id-2 div.sk-text-repr-fallback {display: none;}</style><div id=\"sk-container-id-2\" class=\"sk-top-container\"><div class=\"sk-text-repr-fallback\"><pre>LogisticRegression(class_weight=&#x27;balanced&#x27;, random_state=42)</pre><b>In a Jupyter environment, please rerun this cell to show the HTML representation or trust the notebook. <br />On GitHub, the HTML representation is unable to render, please try loading this page with nbviewer.org.</b></div><div class=\"sk-container\" hidden><div class=\"sk-item\"><div class=\"sk-estimator sk-toggleable\"><input class=\"sk-toggleable__control sk-hidden--visually\" id=\"sk-estimator-id-2\" type=\"checkbox\" checked><label for=\"sk-estimator-id-2\" class=\"sk-toggleable__label sk-toggleable__label-arrow\">LogisticRegression</label><div class=\"sk-toggleable__content\"><pre>LogisticRegression(class_weight=&#x27;balanced&#x27;, random_state=42)</pre></div></div></div></div></div>"
      ],
      "text/plain": [
       "LogisticRegression(class_weight='balanced', random_state=42)"
      ]
     },
     "execution_count": 354,
     "metadata": {},
     "output_type": "execute_result"
    }
   ],
   "source": [
    "from sklearn.linear_model import LogisticRegression\n",
    "\n",
    "clf = LogisticRegression(class_weight=\"balanced\", random_state=42)\n",
    "clf.fit(X_train, y_train)\n"
   ]
  },
  {
   "cell_type": "code",
   "execution_count": null,
   "id": "8adc4acb-c47f-4b4f-9d39-2c33e202af0d",
   "metadata": {},
   "outputs": [],
   "source": [
    "rom imblearn.over_sampling import SMOTE\n",
    "\n",
    "smote = SMOTE(sampling_strategy='auto', random_state=42)\n",
    "X_train_resampled, y_train_resampled = smote.fit_resample(X_train, y_train)"
   ]
  },
  {
   "cell_type": "code",
   "execution_count": null,
   "id": "0e4f46e8-c2ce-4b8f-849a-56768bea7d48",
   "metadata": {},
   "outputs": [],
   "source": [
    "from sklearn.linear_model import LogisticRegression\n",
    "model = LogisticRegression(class_weight='balanced', random_state=42)\n",
    "model.fit(X_train_scaled, y_train)\n"
   ]
  },
  {
   "cell_type": "code",
   "execution_count": null,
   "id": "5bd26cbf-202b-422a-b0cf-81c4873c0a97",
   "metadata": {},
   "outputs": [],
   "source": [
    "from sklearn.linear_model import LogisticRegression\n",
    "\n",
    "# Initialize Logistic Regression\n",
    "model = LogisticRegression()\n",
    "\n",
    "# Train the model\n",
    "model.fit(X_train_scaled, y_train)\n"
   ]
  },
  {
   "cell_type": "code",
   "execution_count": null,
   "id": "f3af111f-7c38-41ec-9e31-714897367c3e",
   "metadata": {},
   "outputs": [],
   "source": [
    "\n",
    "# Predict on the test set\n",
    "y_pred = model.predict(X_test_scaled)\n"
   ]
  },
  {
   "cell_type": "markdown",
   "id": "490e7895-218f-4c63-981a-2c441e8bdc75",
   "metadata": {},
   "source": [
    "<h4>confusion_matrix & Random Forest Classifier with Class Weights</h4>"
   ]
  },
  {
   "cell_type": "code",
   "execution_count": null,
   "id": "360a7eb3-bebd-4b82-9690-231eed39cd0a",
   "metadata": {},
   "outputs": [],
   "source": []
  },
  {
   "cell_type": "code",
   "execution_count": 346,
   "id": "721ecaba-0c3f-4bdc-806f-829478f7b5ec",
   "metadata": {},
   "outputs": [
    {
     "name": "stdout",
     "output_type": "stream",
     "text": [
      "Accuracy: 0.8639\n",
      "Classification Report:\n",
      "               precision    recall  f1-score   support\n",
      "\n",
      "           0       1.00      0.87      0.93     43363\n",
      "           1       0.01      0.47      0.03       170\n",
      "\n",
      "    accuracy                           0.86     43533\n",
      "   macro avg       0.51      0.67      0.48     43533\n",
      "weighted avg       0.99      0.86      0.92     43533\n",
      "\n",
      "Confusion Matrix:\n",
      " [[37529  5834]\n",
      " [   90    80]]\n"
     ]
    }
   ],
   "source": [
    "from sklearn.metrics import accuracy_score, classification_report, confusion_matrix\n",
    "\n",
    "# Accuracy\n",
    "accuracy = accuracy_score(y_test, y_pred)\n",
    "print(f\"Accuracy: {accuracy:.4f}\")\n",
    "\n",
    "# Classification Report\n",
    "print(\"Classification Report:\\n\", classification_report(y_test, y_pred))\n",
    "\n",
    "# Confusion Matrix\n",
    "print(\"Confusion Matrix:\\n\", confusion_matrix(y_test, y_pred))\n"
   ]
  },
  {
   "cell_type": "code",
   "execution_count": null,
   "id": "19b7e753-5f93-4e84-bb59-9069c13d4669",
   "metadata": {},
   "outputs": [],
   "source": []
  },
  {
   "cell_type": "markdown",
   "id": "5be7a89e-bee4-478c-8e7c-66b5bc94fb15",
   "metadata": {},
   "source": [
    "</h2>Random Forest Classifier with Class Weights</h2>"
   ]
  },
  {
   "cell_type": "code",
   "execution_count": 669,
   "id": "66c81619-4827-4374-8400-77062b76b9c5",
   "metadata": {},
   "outputs": [
    {
     "name": "stdout",
     "output_type": "stream",
     "text": [
      "Confusion Matrix:\n",
      " [[43359     4]\n",
      " [  113    57]]\n",
      "\n",
      "Classification Report:\n",
      "               precision    recall  f1-score   support\n",
      "\n",
      "           0       1.00      1.00      1.00     43363\n",
      "           1       0.93      0.34      0.49       170\n",
      "\n",
      "    accuracy                           1.00     43533\n",
      "   macro avg       0.97      0.67      0.75     43533\n",
      "weighted avg       1.00      1.00      1.00     43533\n",
      "\n"
     ]
    }
   ],
   "source": [
    "from sklearn.utils.class_weight import compute_class_weight\n",
    "# Compute Class Weights (Since data is imbalanced)\n",
    "class_weights = dict(zip(np.unique(y_train), compute_class_weight(\"balanced\", classes=np.unique(y_train), y=y_train)))\n",
    "\n",
    "# Initialize Random Forest Model with class weights\n",
    "rf_model = RandomForestClassifier(n_estimators=100, random_state=42, class_weight=class_weights)\n",
    "\n",
    "# Train the Model\n",
    "rf_model.fit(X_train, y_train)\n",
    "\n",
    "# Predictions\n",
    "y_pred = rf_model.predict(X_test)\n",
    "\n",
    "# Evaluation Metrics\n",
    "print(\"Confusion Matrix:\\n\", confusion_matrix(y_test, y_pred))\n",
    "print(\"\\nClassification Report:\\n\", classification_report(y_test, y_pred))"
   ]
  },
  {
   "cell_type": "markdown",
   "id": "f874dcec-f313-4095-a222-b7ce256010c7",
   "metadata": {},
   "source": [
    "<h4>AUC-ROC Score:</h4>"
   ]
  },
  {
   "cell_type": "code",
   "execution_count": null,
   "id": "6d336d76-5892-47a0-833e-0b230a40a51a",
   "metadata": {},
   "outputs": [],
   "source": []
  },
  {
   "cell_type": "code",
   "execution_count": 324,
   "id": "48feeaea-018b-4a89-8517-c51d719d1d3c",
   "metadata": {},
   "outputs": [
    {
     "name": "stdout",
     "output_type": "stream",
     "text": [
      "AUC-ROC Score: 0.8011\n"
     ]
    }
   ],
   "source": [
    "from sklearn.metrics import roc_auc_score\n",
    "\n",
    "# Only if it's a binary classification problem\n",
    "auc = roc_auc_score(y_test, model.predict_proba(X_test_scaled)[:, 1])\n",
    "print(f\"AUC-ROC Score: {auc:.4f}\")\n"
   ]
  },
  {
   "cell_type": "code",
   "execution_count": 344,
   "id": "fbcdf58a-785b-4bf4-b549-d7c4425c5603",
   "metadata": {},
   "outputs": [
    {
     "name": "stdout",
     "output_type": "stream",
     "text": [
      "Class distribution after undersampling:\n",
      " PERSON_INJURY\n",
      "0    1428\n",
      "1     714\n",
      "Name: count, dtype: int64\n"
     ]
    }
   ],
   "source": [
    "from imblearn.under_sampling import RandomUnderSampler\n",
    "\n",
    "undersampler = RandomUnderSampler(sampling_strategy=0.5, random_state=42)\n",
    "X_resampled, y_resampled = undersampler.fit_resample(X_train, y_train)\n",
    "\n",
    "print(\"Class distribution after undersampling:\\n\", y_resampled.value_counts())\n"
   ]
  },
  {
   "cell_type": "code",
   "execution_count": 326,
   "id": "a81a9282-3e5e-4588-9f56-e9b08a235e60",
   "metadata": {},
   "outputs": [
    {
     "data": {
      "image/png": "[encoded data removed]",
      "text/plain": [
       "<Figure size 800x600 with 1 Axes>"
      ]
     },
     "metadata": {},
     "output_type": "display_data"
    }
   ],
   "source": [
    "import matplotlib.pyplot as plt\n",
    "from sklearn.metrics import roc_curve, roc_auc_score\n",
    "\n",
    "# Get probabilities for the positive class\n",
    "y_probs = model.predict_proba(X_test_scaled)[:, 1]  \n",
    "\n",
    "# Compute ROC curve\n",
    "fpr, tpr, thresholds = roc_curve(y_test, y_probs)\n",
    "\n",
    "# Compute AUC score\n",
    "auc_score = roc_auc_score(y_test, y_probs)\n",
    "\n",
    "# Plot ROC Curve\n",
    "plt.figure(figsize=(8, 6))\n",
    "plt.plot(fpr, tpr, color='blue', label=f'AUC = {auc_score:.4f}')\n",
    "plt.plot([0, 1], [0, 1], linestyle='--', color='red', label='Random Model')\n",
    "\n",
    "plt.xlabel('False Positive Rate')\n",
    "plt.ylabel('True Positive Rate')\n",
    "plt.title('ROC Curve')\n",
    "plt.legend(loc='lower right')\n",
    "plt.grid()\n",
    "plt.show()\n"
   ]
  },
  {
   "cell_type": "markdown",
   "id": "74baec2f-1fb8-4a3a-a9eb-766362cb90be",
   "metadata": {},
   "source": [
    "This data have a dominative columns like number of injured to fatal is very low so my mode fatch the error and can't predict proparly, The data is inbalance "
   ]
  },
  {
   "cell_type": "code",
   "execution_count": null,
   "id": "fedc363a-43cc-45f8-a573-5292f41ea6e8",
   "metadata": {},
   "outputs": [],
   "source": []
  },
  {
   "cell_type": "code",
   "execution_count": null,
   "id": "0935c153-71a8-4cc1-a129-dc05b3678e42",
   "metadata": {},
   "outputs": [],
   "source": []
  },
  {
   "cell_type": "code",
   "execution_count": null,
   "id": "35ad7287-07d4-4266-901e-0769a2cd4948",
   "metadata": {},
   "outputs": [],
   "source": []
  }
 ],
 "metadata": {
  "kernelspec": {
   "display_name": "Python 3 (ipykernel)",
   "language": "python",
   "name": "python3"
  },
  "language_info": {
   "codemirror_mode": {
    "name": "ipython",
    "version": 3
   },
   "file_extension": ".py",
   "mimetype": "text/x-python",
   "name": "python",
   "nbconvert_exporter": "python",
   "pygments_lexer": "ipython3",
   "version": "3.11.7"
  }
 },
 "nbformat": 4,
 "nbformat_minor": 5
}
